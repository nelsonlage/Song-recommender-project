{
 "cells": [
  {
   "cell_type": "markdown",
   "id": "de9e1ab9",
   "metadata": {},
   "source": [
    "# Hot songs"
   ]
  },
  {
   "cell_type": "markdown",
   "id": "5b687d97",
   "metadata": {},
   "source": [
    "## Import libraries"
   ]
  },
  {
   "cell_type": "code",
   "execution_count": 16,
   "id": "c5dc77f5",
   "metadata": {},
   "outputs": [],
   "source": [
    "import pandas as pd\n",
    "import requests\n",
    "from random import randint\n",
    "from bs4 import BeautifulSoup\n",
    "import pickle"
   ]
  },
  {
   "cell_type": "markdown",
   "id": "4d94a9d0",
   "metadata": {},
   "source": [
    "## Billboard's Hot100 (US charts)\n",
    "https://www.billboard.com/charts/hot-100/"
   ]
  },
  {
   "cell_type": "code",
   "execution_count": 2,
   "id": "9748f7aa",
   "metadata": {},
   "outputs": [],
   "source": [
    "# Download html\n",
    "response = requests.get('https://www.billboard.com/charts/hot-100/')\n",
    "\n",
    "# Parse html (create the soup)\n",
    "billboard = BeautifulSoup(response.content, 'html.parser')"
   ]
  },
  {
   "cell_type": "markdown",
   "id": "efe16e0a",
   "metadata": {},
   "source": [
    "Alternatively:\n",
    "\n",
    "```python\n",
    "with open('The Hot 100 – Billboard.html', encoding='UTF-8') as page:\n",
    "    billboard = BeautifulSoup(page, 'html.parser')\n",
    "```\n",
    "\n",
    "But the data is static (saved version on the computer)"
   ]
  },
  {
   "cell_type": "code",
   "execution_count": 3,
   "id": "43343e05",
   "metadata": {},
   "outputs": [
    {
     "data": {
      "text/plain": [
       "[\"we don't talk about bruno\",\n",
       " 'do we have a problem?',\n",
       " 'easy on me',\n",
       " 'heat waves',\n",
       " 'stay']"
      ]
     },
     "execution_count": 3,
     "metadata": {},
     "output_type": "execute_result"
    }
   ],
   "source": [
    "# Retrieve the songs\n",
    "billboard_songs = [song.get_text(strip=True).lower() for song in\n",
    "                   billboard.select('.o-chart-results-list__item #title-of-a-story')]\n",
    "billboard_songs[:5]"
   ]
  },
  {
   "cell_type": "code",
   "execution_count": 4,
   "id": "ea71aeb1",
   "metadata": {
    "scrolled": true
   },
   "outputs": [
    {
     "data": {
      "text/plain": [
       "['carolina gaitan, mauro castillo, adassa, rhenzy feliz, diane guerrero, stephanie beatriz & encanto cast',\n",
       " 'nicki minaj x lil baby',\n",
       " 'adele',\n",
       " 'glass animals',\n",
       " 'the kid laroi & justin bieber']"
      ]
     },
     "execution_count": 4,
     "metadata": {},
     "output_type": "execute_result"
    }
   ],
   "source": [
    "# Retrieve the artists\n",
    "billboard_artists = [artist.get_text(strip=True).lower() for artist in\n",
    "                     billboard.select('.lrv-u-width-100p .c-label.a-no-trucate')]\n",
    "billboard_artists[:5]"
   ]
  },
  {
   "cell_type": "markdown",
   "id": "52e3078f",
   "metadata": {},
   "source": [
    "Alternatively:\n",
    "```python\n",
    "billboard_artists = [artist.get_text().strip() for artist in billboard.select('.lrv-u-width-100p .c-label:nth-child(2)')]\n",
    "```"
   ]
  },
  {
   "cell_type": "markdown",
   "id": "618e1d47",
   "metadata": {},
   "source": [
    "**Breaking down the list comprehensions**\n",
    "\n",
    "Returns a list of all ocurrences of the *selector*\n",
    "```python\n",
    "billboard.select('selector')[0] # First item as example\n",
    "```\n",
    "```\n",
    ">> <h3 class=\"c-title a-no-trucate a-font-primary-bold-s u-letter-spacing-0021 u-font-size-23@tablet lrv-u-font-size-16 u-line-height-125 u-line-height-normal@mobile-max a-truncate-ellipsis u-max-width-245 u-max-width-230@tablet-only u-letter-spacing-0028@tablet\" id=\"title-of-a-story\">\n",
    "Easy On Me\n",
    "</h3>\n",
    "```\n",
    "\n",
    "`.get_text()` returns only the text, ignoring the tags\n",
    "```python\n",
    "song.get_text()\n",
    "```\n",
    "```\n",
    ">> '\\nEasy On Me\\n'\n",
    "```\n",
    "\n",
    "Setting `strip=True` removes the leading and trailing `\\n` (new line character)."
   ]
  },
  {
   "cell_type": "code",
   "execution_count": 5,
   "id": "a96a4e3b",
   "metadata": {},
   "outputs": [
    {
     "name": "stdout",
     "output_type": "stream",
     "text": [
      "\u001b[1m\u001b[91mWeek of February 19, 2022\n"
     ]
    },
    {
     "data": {
      "text/html": [
       "<div>\n",
       "<style scoped>\n",
       "    .dataframe tbody tr th:only-of-type {\n",
       "        vertical-align: middle;\n",
       "    }\n",
       "\n",
       "    .dataframe tbody tr th {\n",
       "        vertical-align: top;\n",
       "    }\n",
       "\n",
       "    .dataframe thead th {\n",
       "        text-align: right;\n",
       "    }\n",
       "</style>\n",
       "<table border=\"1\" class=\"dataframe\">\n",
       "  <thead>\n",
       "    <tr style=\"text-align: right;\">\n",
       "      <th></th>\n",
       "      <th>song</th>\n",
       "      <th>artist</th>\n",
       "    </tr>\n",
       "  </thead>\n",
       "  <tbody>\n",
       "    <tr>\n",
       "      <th>0</th>\n",
       "      <td>we don't talk about bruno</td>\n",
       "      <td>carolina gaitan, mauro castillo, adassa, rhenz...</td>\n",
       "    </tr>\n",
       "    <tr>\n",
       "      <th>1</th>\n",
       "      <td>do we have a problem?</td>\n",
       "      <td>nicki minaj x lil baby</td>\n",
       "    </tr>\n",
       "    <tr>\n",
       "      <th>2</th>\n",
       "      <td>easy on me</td>\n",
       "      <td>adele</td>\n",
       "    </tr>\n",
       "    <tr>\n",
       "      <th>3</th>\n",
       "      <td>heat waves</td>\n",
       "      <td>glass animals</td>\n",
       "    </tr>\n",
       "    <tr>\n",
       "      <th>4</th>\n",
       "      <td>stay</td>\n",
       "      <td>the kid laroi &amp; justin bieber</td>\n",
       "    </tr>\n",
       "  </tbody>\n",
       "</table>\n",
       "</div>"
      ],
      "text/plain": [
       "                        song  \\\n",
       "0  we don't talk about bruno   \n",
       "1      do we have a problem?   \n",
       "2                 easy on me   \n",
       "3                 heat waves   \n",
       "4                       stay   \n",
       "\n",
       "                                              artist  \n",
       "0  carolina gaitan, mauro castillo, adassa, rhenz...  \n",
       "1                             nicki minaj x lil baby  \n",
       "2                                              adele  \n",
       "3                                      glass animals  \n",
       "4                      the kid laroi & justin bieber  "
      ]
     },
     "execution_count": 5,
     "metadata": {},
     "output_type": "execute_result"
    }
   ],
   "source": [
    "# Print the date of the ranking ('\\033[1m' makes it bold, '\\033[91m' makes it red)\n",
    "print('\\033[1m' + '\\033[91m' + billboard.select('.c-tagline.a-font-primary-medium-xs')[0].get_text())\n",
    "\n",
    "# Create dataframe to store the data\n",
    "billboard_df = pd.DataFrame({\n",
    "    'song': billboard_songs,\n",
    "    'artist': billboard_artists\n",
    "})\n",
    "\n",
    "billboard_df.head()"
   ]
  },
  {
   "cell_type": "markdown",
   "id": "af86b76e",
   "metadata": {},
   "source": [
    "# UK Charts\n",
    "https://www.officialcharts.com/charts/singles-chart/"
   ]
  },
  {
   "cell_type": "code",
   "execution_count": 6,
   "id": "b89ff912",
   "metadata": {},
   "outputs": [],
   "source": [
    "response = requests.get('https://www.officialcharts.com/charts/singles-chart/')\n",
    "uk_charts = BeautifulSoup(response.content, 'html.parser')"
   ]
  },
  {
   "cell_type": "markdown",
   "id": "a39a6a91",
   "metadata": {},
   "source": [
    "Like in the previous case:\n",
    "\n",
    "```python\n",
    "with open('Official Singles Chart Top 100 _ UK.html') as page:\n",
    "    uk_charts = BeautifulSoup(page, 'html.parser')\n",
    "```"
   ]
  },
  {
   "cell_type": "code",
   "execution_count": 7,
   "id": "db0f6453",
   "metadata": {
    "scrolled": true
   },
   "outputs": [
    {
     "data": {
      "text/plain": [
       "[\"we don't talk about bruno\",\n",
       " 'peru',\n",
       " 'surface pressure',\n",
       " 'abcdefu',\n",
       " 'where are you now']"
      ]
     },
     "execution_count": 7,
     "metadata": {},
     "output_type": "execute_result"
    }
   ],
   "source": [
    "uk_songs = [song.get_text(strip=True).lower() for song in uk_charts.select('.title')]\n",
    "uk_songs[:5]"
   ]
  },
  {
   "cell_type": "code",
   "execution_count": 8,
   "id": "19a0d9b2",
   "metadata": {},
   "outputs": [
    {
     "data": {
      "text/plain": [
       "['gaitan/castillo/adassa/feliz',\n",
       " 'fireboy dml & ed sheeran',\n",
       " 'jessica darrow',\n",
       " 'gayle',\n",
       " 'lost frequencies/calum scott']"
      ]
     },
     "execution_count": 8,
     "metadata": {},
     "output_type": "execute_result"
    }
   ],
   "source": [
    "uk_artists = [artist.get_text(strip=True).lower() for artist in uk_charts.select('.artist')]\n",
    "uk_artists[:5]"
   ]
  },
  {
   "cell_type": "code",
   "execution_count": 9,
   "id": "6d0d75a9",
   "metadata": {},
   "outputs": [
    {
     "name": "stdout",
     "output_type": "stream",
     "text": [
      "\u001b[1m\u001b[91m11 February 2022 -  17 February 2022\n"
     ]
    },
    {
     "data": {
      "text/html": [
       "<div>\n",
       "<style scoped>\n",
       "    .dataframe tbody tr th:only-of-type {\n",
       "        vertical-align: middle;\n",
       "    }\n",
       "\n",
       "    .dataframe tbody tr th {\n",
       "        vertical-align: top;\n",
       "    }\n",
       "\n",
       "    .dataframe thead th {\n",
       "        text-align: right;\n",
       "    }\n",
       "</style>\n",
       "<table border=\"1\" class=\"dataframe\">\n",
       "  <thead>\n",
       "    <tr style=\"text-align: right;\">\n",
       "      <th></th>\n",
       "      <th>song</th>\n",
       "      <th>artist</th>\n",
       "    </tr>\n",
       "  </thead>\n",
       "  <tbody>\n",
       "    <tr>\n",
       "      <th>0</th>\n",
       "      <td>we don't talk about bruno</td>\n",
       "      <td>gaitan/castillo/adassa/feliz</td>\n",
       "    </tr>\n",
       "    <tr>\n",
       "      <th>1</th>\n",
       "      <td>peru</td>\n",
       "      <td>fireboy dml &amp; ed sheeran</td>\n",
       "    </tr>\n",
       "    <tr>\n",
       "      <th>2</th>\n",
       "      <td>surface pressure</td>\n",
       "      <td>jessica darrow</td>\n",
       "    </tr>\n",
       "    <tr>\n",
       "      <th>3</th>\n",
       "      <td>abcdefu</td>\n",
       "      <td>gayle</td>\n",
       "    </tr>\n",
       "    <tr>\n",
       "      <th>4</th>\n",
       "      <td>where are you now</td>\n",
       "      <td>lost frequencies/calum scott</td>\n",
       "    </tr>\n",
       "  </tbody>\n",
       "</table>\n",
       "</div>"
      ],
      "text/plain": [
       "                        song                        artist\n",
       "0  we don't talk about bruno  gaitan/castillo/adassa/feliz\n",
       "1                       peru      fireboy dml & ed sheeran\n",
       "2           surface pressure                jessica darrow\n",
       "3                    abcdefu                         gayle\n",
       "4          where are you now  lost frequencies/calum scott"
      ]
     },
     "execution_count": 9,
     "metadata": {},
     "output_type": "execute_result"
    }
   ],
   "source": [
    "print('\\033[1m' + '\\033[91m' + uk_charts.select('.article-date')[0].get_text(strip=True))\n",
    "\n",
    "uk_df = pd.DataFrame({\n",
    "    'song': uk_songs,\n",
    "    'artist': uk_artists\n",
    "})\n",
    "uk_df.head()"
   ]
  },
  {
   "cell_type": "markdown",
   "id": "b42a8443",
   "metadata": {},
   "source": [
    "## Germany Charts\n",
    "https://www.offiziellecharts.de/charts/single"
   ]
  },
  {
   "cell_type": "code",
   "execution_count": 10,
   "id": "42c00c03",
   "metadata": {},
   "outputs": [],
   "source": [
    "# Download html\n",
    "response = requests.get('https://www.offiziellecharts.de/charts/single')\n",
    "\n",
    "# Parse html (create the soup)\n",
    "offizielle_soup = BeautifulSoup(response.content, 'html.parser')"
   ]
  },
  {
   "cell_type": "code",
   "execution_count": 11,
   "id": "02459054",
   "metadata": {},
   "outputs": [
    {
     "data": {
      "text/plain": [
       "['abcdefu', 'heat waves', 'mit dir', 'shivers', 'kopf aus']"
      ]
     },
     "execution_count": 11,
     "metadata": {},
     "output_type": "execute_result"
    }
   ],
   "source": [
    "germany_songs = [song.get_text().lower() for song in offizielle_soup.select('.info-title')]\n",
    "germany_songs[:5]"
   ]
  },
  {
   "cell_type": "code",
   "execution_count": 12,
   "id": "a9d92434",
   "metadata": {},
   "outputs": [
    {
     "data": {
      "text/plain": [
       "['gayle', 'glass animals', 'sido', 'ed sheeran', '1986zig']"
      ]
     },
     "execution_count": 12,
     "metadata": {},
     "output_type": "execute_result"
    }
   ],
   "source": [
    "germany_artists = [artist.get_text().lower() for artist in offizielle_soup.select('.info-artist')]\n",
    "germany_artists[:5]"
   ]
  },
  {
   "cell_type": "code",
   "execution_count": 13,
   "id": "e3c2718e",
   "metadata": {},
   "outputs": [
    {
     "data": {
      "text/html": [
       "<div>\n",
       "<style scoped>\n",
       "    .dataframe tbody tr th:only-of-type {\n",
       "        vertical-align: middle;\n",
       "    }\n",
       "\n",
       "    .dataframe tbody tr th {\n",
       "        vertical-align: top;\n",
       "    }\n",
       "\n",
       "    .dataframe thead th {\n",
       "        text-align: right;\n",
       "    }\n",
       "</style>\n",
       "<table border=\"1\" class=\"dataframe\">\n",
       "  <thead>\n",
       "    <tr style=\"text-align: right;\">\n",
       "      <th></th>\n",
       "      <th>song</th>\n",
       "      <th>artist</th>\n",
       "    </tr>\n",
       "  </thead>\n",
       "  <tbody>\n",
       "    <tr>\n",
       "      <th>0</th>\n",
       "      <td>abcdefu</td>\n",
       "      <td>gayle</td>\n",
       "    </tr>\n",
       "    <tr>\n",
       "      <th>1</th>\n",
       "      <td>heat waves</td>\n",
       "      <td>glass animals</td>\n",
       "    </tr>\n",
       "    <tr>\n",
       "      <th>2</th>\n",
       "      <td>mit dir</td>\n",
       "      <td>sido</td>\n",
       "    </tr>\n",
       "    <tr>\n",
       "      <th>3</th>\n",
       "      <td>shivers</td>\n",
       "      <td>ed sheeran</td>\n",
       "    </tr>\n",
       "    <tr>\n",
       "      <th>4</th>\n",
       "      <td>kopf aus</td>\n",
       "      <td>1986zig</td>\n",
       "    </tr>\n",
       "  </tbody>\n",
       "</table>\n",
       "</div>"
      ],
      "text/plain": [
       "         song         artist\n",
       "0     abcdefu          gayle\n",
       "1  heat waves  glass animals\n",
       "2     mit dir           sido\n",
       "3     shivers     ed sheeran\n",
       "4    kopf aus        1986zig"
      ]
     },
     "execution_count": 13,
     "metadata": {},
     "output_type": "execute_result"
    }
   ],
   "source": [
    "germany_df = pd.DataFrame({\n",
    "    'song': germany_songs,\n",
    "    'artist': germany_artists    \n",
    "})\n",
    "germany_df.head()"
   ]
  },
  {
   "cell_type": "markdown",
   "id": "90f57a27",
   "metadata": {},
   "source": [
    "## The hot songs"
   ]
  },
  {
   "cell_type": "code",
   "execution_count": 14,
   "id": "81d482fd",
   "metadata": {},
   "outputs": [
    {
     "data": {
      "text/html": [
       "<div>\n",
       "<style scoped>\n",
       "    .dataframe tbody tr th:only-of-type {\n",
       "        vertical-align: middle;\n",
       "    }\n",
       "\n",
       "    .dataframe tbody tr th {\n",
       "        vertical-align: top;\n",
       "    }\n",
       "\n",
       "    .dataframe thead th {\n",
       "        text-align: right;\n",
       "    }\n",
       "</style>\n",
       "<table border=\"1\" class=\"dataframe\">\n",
       "  <thead>\n",
       "    <tr style=\"text-align: right;\">\n",
       "      <th></th>\n",
       "      <th>song</th>\n",
       "      <th>artist</th>\n",
       "    </tr>\n",
       "  </thead>\n",
       "  <tbody>\n",
       "    <tr>\n",
       "      <th>0</th>\n",
       "      <td>we don't talk about bruno</td>\n",
       "      <td>carolina gaitan, mauro castillo, adassa, rhenz...</td>\n",
       "    </tr>\n",
       "    <tr>\n",
       "      <th>1</th>\n",
       "      <td>do we have a problem?</td>\n",
       "      <td>nicki minaj x lil baby</td>\n",
       "    </tr>\n",
       "    <tr>\n",
       "      <th>2</th>\n",
       "      <td>easy on me</td>\n",
       "      <td>adele</td>\n",
       "    </tr>\n",
       "    <tr>\n",
       "      <th>3</th>\n",
       "      <td>heat waves</td>\n",
       "      <td>glass animals</td>\n",
       "    </tr>\n",
       "    <tr>\n",
       "      <th>4</th>\n",
       "      <td>stay</td>\n",
       "      <td>the kid laroi &amp; justin bieber</td>\n",
       "    </tr>\n",
       "    <tr>\n",
       "      <th>...</th>\n",
       "      <td>...</td>\n",
       "      <td>...</td>\n",
       "    </tr>\n",
       "    <tr>\n",
       "      <th>222</th>\n",
       "      <td>love again</td>\n",
       "      <td>dua lipa</td>\n",
       "    </tr>\n",
       "    <tr>\n",
       "      <th>223</th>\n",
       "      <td>habit</td>\n",
       "      <td>laurell</td>\n",
       "    </tr>\n",
       "    <tr>\n",
       "      <th>224</th>\n",
       "      <td>head &amp; heart</td>\n",
       "      <td>joel corry feat. mnek</td>\n",
       "    </tr>\n",
       "    <tr>\n",
       "      <th>225</th>\n",
       "      <td>la familia 2</td>\n",
       "      <td>sun diego &amp; spongebozz</td>\n",
       "    </tr>\n",
       "    <tr>\n",
       "      <th>226</th>\n",
       "      <td>kapitel iv sport (2sad2disco)</td>\n",
       "      <td>apache 207</td>\n",
       "    </tr>\n",
       "  </tbody>\n",
       "</table>\n",
       "<p>227 rows × 2 columns</p>\n",
       "</div>"
      ],
      "text/plain": [
       "                              song  \\\n",
       "0        we don't talk about bruno   \n",
       "1            do we have a problem?   \n",
       "2                       easy on me   \n",
       "3                       heat waves   \n",
       "4                             stay   \n",
       "..                             ...   \n",
       "222                     love again   \n",
       "223                          habit   \n",
       "224                   head & heart   \n",
       "225                   la familia 2   \n",
       "226  kapitel iv sport (2sad2disco)   \n",
       "\n",
       "                                                artist  \n",
       "0    carolina gaitan, mauro castillo, adassa, rhenz...  \n",
       "1                               nicki minaj x lil baby  \n",
       "2                                                adele  \n",
       "3                                        glass animals  \n",
       "4                        the kid laroi & justin bieber  \n",
       "..                                                 ...  \n",
       "222                                           dua lipa  \n",
       "223                                            laurell  \n",
       "224                              joel corry feat. mnek  \n",
       "225                             sun diego & spongebozz  \n",
       "226                                         apache 207  \n",
       "\n",
       "[227 rows x 2 columns]"
      ]
     },
     "execution_count": 14,
     "metadata": {},
     "output_type": "execute_result"
    }
   ],
   "source": [
    "# Join all songs in one series and remove the duplicates\n",
    "combined_df = pd.concat([billboard_df, uk_df, germany_df])\n",
    "combined_df = combined_df.drop_duplicates('song').reset_index(drop=True)\n",
    "combined_df"
   ]
  },
  {
   "cell_type": "raw",
   "id": "3ac304d1",
   "metadata": {},
   "source": [
    "with open('datasets/hot_songs.pickle', 'wb') as f:\n",
    "    pickle.dump(combined_df, f)"
   ]
  },
  {
   "cell_type": "code",
   "execution_count": null,
   "id": "eadd58c1",
   "metadata": {},
   "outputs": [],
   "source": []
  },
  {
   "cell_type": "code",
   "execution_count": null,
   "id": "27c92486",
   "metadata": {},
   "outputs": [],
   "source": []
  }
 ],
 "metadata": {
  "kernelspec": {
   "display_name": "Python 3 (ipykernel)",
   "language": "python",
   "name": "python3"
  },
  "language_info": {
   "codemirror_mode": {
    "name": "ipython",
    "version": 3
   },
   "file_extension": ".py",
   "mimetype": "text/x-python",
   "name": "python",
   "nbconvert_exporter": "python",
   "pygments_lexer": "ipython3",
   "version": "3.7.11"
  }
 },
 "nbformat": 4,
 "nbformat_minor": 5
}
