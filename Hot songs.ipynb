{
 "cells": [
  {
   "cell_type": "markdown",
   "id": "de9e1ab9",
   "metadata": {},
   "source": [
    "# Project title"
   ]
  },
  {
   "cell_type": "markdown",
   "id": "5b687d97",
   "metadata": {},
   "source": [
    "## Import libraries"
   ]
  },
  {
   "cell_type": "code",
   "execution_count": 1,
   "id": "c5dc77f5",
   "metadata": {},
   "outputs": [],
   "source": [
    "import pandas as pd\n",
    "import requests\n",
    "from random import choice\n",
    "from bs4 import BeautifulSoup"
   ]
  },
  {
   "cell_type": "markdown",
   "id": "4d94a9d0",
   "metadata": {},
   "source": [
    "## Billboard's Hot100 (US charts)"
   ]
  },
  {
   "cell_type": "code",
   "execution_count": 2,
   "id": "9748f7aa",
   "metadata": {},
   "outputs": [],
   "source": [
    "# Download html\n",
    "response = requests.get('https://www.billboard.com/charts/hot-100/')\n",
    "\n",
    "# Parse html (create the soup)\n",
    "billboard = BeautifulSoup(response.content, 'html.parser')"
   ]
  },
  {
   "cell_type": "markdown",
   "id": "efe16e0a",
   "metadata": {},
   "source": [
    "Alternatively:\n",
    "\n",
    "```python\n",
    "with open('The Hot 100 – Billboard.html', encoding='UTF-8') as page:\n",
    "    billboard = BeautifulSoup(page, 'html.parser')\n",
    "```\n",
    "\n",
    "But the data is static (saved version on the computer)"
   ]
  },
  {
   "cell_type": "code",
   "execution_count": 3,
   "id": "43343e05",
   "metadata": {},
   "outputs": [
    {
     "data": {
      "text/plain": [
       "['Easy On Me', 'Stay', 'Industry Baby', 'Bad Habits', 'Shivers']"
      ]
     },
     "execution_count": 3,
     "metadata": {},
     "output_type": "execute_result"
    }
   ],
   "source": [
    "# Retrieve the songs\n",
    "billboard_songs = [song.string.strip() for song in billboard.select('.o-chart-results-list__item #title-of-a-story.c-title')]\n",
    "billboard_songs[:5]"
   ]
  },
  {
   "cell_type": "code",
   "execution_count": 4,
   "id": "ea71aeb1",
   "metadata": {},
   "outputs": [
    {
     "data": {
      "text/plain": [
       "['Adele',\n",
       " 'The Kid LAROI & Justin Bieber',\n",
       " 'Lil Nas X & Jack Harlow',\n",
       " 'Ed Sheeran',\n",
       " 'Ed Sheeran']"
      ]
     },
     "execution_count": 4,
     "metadata": {},
     "output_type": "execute_result"
    }
   ],
   "source": [
    "# Retrieve the artists\n",
    "billboard_artists = [artist.string.strip() for artist in billboard.select('.lrv-u-width-100p span.c-label:nth-child(2)')]\n",
    "billboard_artists[:5]"
   ]
  },
  {
   "cell_type": "markdown",
   "id": "618e1d47",
   "metadata": {},
   "source": [
    "**Breaking down the list comprehensions**\n",
    "\n",
    "Returns a list of all ocurrences of the *selector*\n",
    "```python\n",
    "billboard.select('selector')[0] # First item as example\n",
    "```\n",
    "```\n",
    ">> <h3 class=\"c-title a-no-trucate a-font-primary-bold-s u-letter-spacing-0021 u-font-size-23@tablet lrv-u-font-size-16 u-line-height-125 u-line-height-normal@mobile-max a-truncate-ellipsis u-max-width-245 u-max-width-230@tablet-only u-letter-spacing-0028@tablet\" id=\"title-of-a-story\">\n",
    "Easy On Me\n",
    "</h3>\n",
    "```\n",
    "\n",
    "`.string` returns only the text, ignoring the tags\n",
    "```python\n",
    "song.string\n",
    "```\n",
    "```\n",
    ">> '\\nEasy On Me\\n'\n",
    "```\n",
    "\n",
    "Finally, we use `.strip()` to remove the leading and trailing line breakers."
   ]
  },
  {
   "cell_type": "code",
   "execution_count": 5,
   "id": "a96a4e3b",
   "metadata": {},
   "outputs": [
    {
     "name": "stdout",
     "output_type": "stream",
     "text": [
      "\u001b[1m\u001b[91mWeek of November 20, 2021\n"
     ]
    },
    {
     "data": {
      "text/html": [
       "<div>\n",
       "<style scoped>\n",
       "    .dataframe tbody tr th:only-of-type {\n",
       "        vertical-align: middle;\n",
       "    }\n",
       "\n",
       "    .dataframe tbody tr th {\n",
       "        vertical-align: top;\n",
       "    }\n",
       "\n",
       "    .dataframe thead th {\n",
       "        text-align: right;\n",
       "    }\n",
       "</style>\n",
       "<table border=\"1\" class=\"dataframe\">\n",
       "  <thead>\n",
       "    <tr style=\"text-align: right;\">\n",
       "      <th></th>\n",
       "      <th>Artist</th>\n",
       "      <th>Song</th>\n",
       "    </tr>\n",
       "  </thead>\n",
       "  <tbody>\n",
       "    <tr>\n",
       "      <th>0</th>\n",
       "      <td>Adele</td>\n",
       "      <td>Easy On Me</td>\n",
       "    </tr>\n",
       "    <tr>\n",
       "      <th>1</th>\n",
       "      <td>The Kid LAROI &amp; Justin Bieber</td>\n",
       "      <td>Stay</td>\n",
       "    </tr>\n",
       "    <tr>\n",
       "      <th>2</th>\n",
       "      <td>Lil Nas X &amp; Jack Harlow</td>\n",
       "      <td>Industry Baby</td>\n",
       "    </tr>\n",
       "    <tr>\n",
       "      <th>3</th>\n",
       "      <td>Ed Sheeran</td>\n",
       "      <td>Bad Habits</td>\n",
       "    </tr>\n",
       "    <tr>\n",
       "      <th>4</th>\n",
       "      <td>Ed Sheeran</td>\n",
       "      <td>Shivers</td>\n",
       "    </tr>\n",
       "  </tbody>\n",
       "</table>\n",
       "</div>"
      ],
      "text/plain": [
       "                          Artist           Song\n",
       "0                          Adele     Easy On Me\n",
       "1  The Kid LAROI & Justin Bieber           Stay\n",
       "2        Lil Nas X & Jack Harlow  Industry Baby\n",
       "3                     Ed Sheeran     Bad Habits\n",
       "4                     Ed Sheeran        Shivers"
      ]
     },
     "execution_count": 5,
     "metadata": {},
     "output_type": "execute_result"
    }
   ],
   "source": [
    "# Print the date of the ranking ('\\033[1m' makes it bold, '\\033[91m' makes it red)\n",
    "print('\\033[1m' + '\\033[91m' + billboard.select('.c-tagline')[7].string)\n",
    "\n",
    "# Create dataframe to store the data\n",
    "billboard_df = pd.DataFrame({\n",
    "    'Artist': billboard_artists,\n",
    "    'Song': billboard_songs\n",
    "})\n",
    "\n",
    "billboard_df.head()"
   ]
  },
  {
   "cell_type": "code",
   "execution_count": 6,
   "id": "eca415fd",
   "metadata": {},
   "outputs": [],
   "source": [
    "def song_suggestion():\n",
    "    \n",
    "    user_song = input('Enter a song: ')\n",
    "\n",
    "    if user_song in billboard_df['Song'].values:\n",
    "        song_suggestion = choice(billboard_df['Song'])\n",
    "        by_artist = billboard_df.loc[billboard_df['Song'] == song_suggestion, 'Artist'].item()\n",
    "        \n",
    "        return print('Here\\'s another hot song for you: {} by {}'.format(song_suggestion, by_artist))\n",
    "    \n",
    "    else:\n",
    "        return print('Unfortunately, the song is not in the hot list!')"
   ]
  },
  {
   "cell_type": "code",
   "execution_count": 7,
   "id": "7626d6d5",
   "metadata": {},
   "outputs": [],
   "source": [
    "# song_suggestion()"
   ]
  },
  {
   "cell_type": "markdown",
   "id": "af86b76e",
   "metadata": {},
   "source": [
    "# UK Charts"
   ]
  },
  {
   "cell_type": "code",
   "execution_count": 8,
   "id": "b89ff912",
   "metadata": {},
   "outputs": [],
   "source": [
    "response = requests.get('https://www.officialcharts.com/charts/singles-chart/')\n",
    "uk_charts = BeautifulSoup(response.content, 'html.parser')"
   ]
  },
  {
   "cell_type": "markdown",
   "id": "a39a6a91",
   "metadata": {},
   "source": [
    "Like in the previous case:\n",
    "\n",
    "```python\n",
    "with open('Official Singles Chart Top 100 _ UK.html') as page:\n",
    "    uk_charts = BeautifulSoup(page, 'html.parser')\n",
    "```"
   ]
  },
  {
   "cell_type": "code",
   "execution_count": 9,
   "id": "db0f6453",
   "metadata": {
    "scrolled": true
   },
   "outputs": [
    {
     "data": {
      "text/plain": [
       "['EASY ON ME',\n",
       " 'SHIVERS',\n",
       " \"ALL TOO WELL (TAYLOR'S VERSION)\",\n",
       " 'BAD HABITS',\n",
       " 'FLOWERS (SAY MY NAME)']"
      ]
     },
     "execution_count": 9,
     "metadata": {},
     "output_type": "execute_result"
    }
   ],
   "source": [
    "uk_songs = [song.get_text().strip() for song in uk_charts.select('.title')]\n",
    "uk_songs[:5]"
   ]
  },
  {
   "cell_type": "code",
   "execution_count": 10,
   "id": "19a0d9b2",
   "metadata": {},
   "outputs": [
    {
     "data": {
      "text/plain": [
       "['ADELE', 'ED SHEERAN', 'TAYLOR SWIFT', 'ED SHEERAN', 'ARRDEE']"
      ]
     },
     "execution_count": 10,
     "metadata": {},
     "output_type": "execute_result"
    }
   ],
   "source": [
    "uk_artists = [artist.get_text().strip() for artist in uk_charts.select('.artist')]\n",
    "uk_artists[:5]"
   ]
  },
  {
   "cell_type": "code",
   "execution_count": 11,
   "id": "6d0d75a9",
   "metadata": {},
   "outputs": [
    {
     "data": {
      "text/html": [
       "<div>\n",
       "<style scoped>\n",
       "    .dataframe tbody tr th:only-of-type {\n",
       "        vertical-align: middle;\n",
       "    }\n",
       "\n",
       "    .dataframe tbody tr th {\n",
       "        vertical-align: top;\n",
       "    }\n",
       "\n",
       "    .dataframe thead th {\n",
       "        text-align: right;\n",
       "    }\n",
       "</style>\n",
       "<table border=\"1\" class=\"dataframe\">\n",
       "  <thead>\n",
       "    <tr style=\"text-align: right;\">\n",
       "      <th></th>\n",
       "      <th>Artist</th>\n",
       "      <th>Song</th>\n",
       "    </tr>\n",
       "  </thead>\n",
       "  <tbody>\n",
       "    <tr>\n",
       "      <th>0</th>\n",
       "      <td>ADELE</td>\n",
       "      <td>EASY ON ME</td>\n",
       "    </tr>\n",
       "    <tr>\n",
       "      <th>1</th>\n",
       "      <td>ED SHEERAN</td>\n",
       "      <td>SHIVERS</td>\n",
       "    </tr>\n",
       "    <tr>\n",
       "      <th>2</th>\n",
       "      <td>TAYLOR SWIFT</td>\n",
       "      <td>ALL TOO WELL (TAYLOR'S VERSION)</td>\n",
       "    </tr>\n",
       "    <tr>\n",
       "      <th>3</th>\n",
       "      <td>ED SHEERAN</td>\n",
       "      <td>BAD HABITS</td>\n",
       "    </tr>\n",
       "    <tr>\n",
       "      <th>4</th>\n",
       "      <td>ARRDEE</td>\n",
       "      <td>FLOWERS (SAY MY NAME)</td>\n",
       "    </tr>\n",
       "  </tbody>\n",
       "</table>\n",
       "</div>"
      ],
      "text/plain": [
       "         Artist                             Song\n",
       "0         ADELE                       EASY ON ME\n",
       "1    ED SHEERAN                          SHIVERS\n",
       "2  TAYLOR SWIFT  ALL TOO WELL (TAYLOR'S VERSION)\n",
       "3    ED SHEERAN                       BAD HABITS\n",
       "4        ARRDEE            FLOWERS (SAY MY NAME)"
      ]
     },
     "execution_count": 11,
     "metadata": {},
     "output_type": "execute_result"
    }
   ],
   "source": [
    "uk_df = pd.DataFrame({\n",
    "    'Artist': uk_artists,\n",
    "    'Song': uk_songs\n",
    "})\n",
    "uk_df.head()"
   ]
  },
  {
   "cell_type": "markdown",
   "id": "b42a8443",
   "metadata": {},
   "source": [
    "## Germany Charts"
   ]
  },
  {
   "cell_type": "code",
   "execution_count": 12,
   "id": "42c00c03",
   "metadata": {},
   "outputs": [],
   "source": [
    "with open('Offizielle Single Top 100 - Musik Charts _ MTV Germany.html') as page:\n",
    "    germany_charts = BeautifulSoup(page, 'html.parser')"
   ]
  },
  {
   "cell_type": "code",
   "execution_count": 13,
   "id": "a9d92434",
   "metadata": {},
   "outputs": [],
   "source": [
    "# It seems that we would need a json/php parser based on the element structure"
   ]
  },
  {
   "cell_type": "code",
   "execution_count": 14,
   "id": "02459054",
   "metadata": {},
   "outputs": [],
   "source": [
    "#germany_songs = [song.get_text().strip() for song in germany_charts.select('.cmn-title')]\n",
    "#germany_songs[:5]"
   ]
  },
  {
   "cell_type": "code",
   "execution_count": 15,
   "id": "817aa05f",
   "metadata": {},
   "outputs": [],
   "source": [
    "#germany_artists = [artist.get_text().strip() for artist in germany_charts.select('.artist')]\n",
    "#germany_artists[:5]"
   ]
  },
  {
   "cell_type": "code",
   "execution_count": 16,
   "id": "e3c2718e",
   "metadata": {},
   "outputs": [],
   "source": [
    "#germany_df = pd.DataFrame({\n",
    "#    'Artist': germany_artists,\n",
    "#    'Song': germany_songs\n",
    "#})\n",
    "#germany_df.head()"
   ]
  },
  {
   "cell_type": "code",
   "execution_count": null,
   "id": "5bdfa966",
   "metadata": {},
   "outputs": [],
   "source": []
  },
  {
   "cell_type": "code",
   "execution_count": null,
   "id": "45b99261",
   "metadata": {},
   "outputs": [],
   "source": []
  }
 ],
 "metadata": {
  "kernelspec": {
   "display_name": "Python 3",
   "language": "python",
   "name": "python3"
  },
  "language_info": {
   "codemirror_mode": {
    "name": "ipython",
    "version": 3
   },
   "file_extension": ".py",
   "mimetype": "text/x-python",
   "name": "python",
   "nbconvert_exporter": "python",
   "pygments_lexer": "ipython3",
   "version": "3.7.11"
  }
 },
 "nbformat": 4,
 "nbformat_minor": 5
}
