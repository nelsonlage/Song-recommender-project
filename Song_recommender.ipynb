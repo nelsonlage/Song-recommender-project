{
 "cells": [
  {
   "cell_type": "markdown",
   "id": "383418ec",
   "metadata": {
    "slideshow": {
     "slide_type": "slide"
    }
   },
   "source": [
    "<img src='gnod.png' width='75' align='left'/> <h1> Song recommender project </h1>\n",
    "_____\n",
    "                                                                                Nelson Lage\n",
    "                                                                                       Gnod"
   ]
  },
  {
   "cell_type": "code",
   "execution_count": 1,
   "id": "03cbe11d",
   "metadata": {
    "slideshow": {
     "slide_type": "skip"
    }
   },
   "outputs": [],
   "source": [
    "import config\n",
    "import pickle\n",
    "import pandas as pd\n",
    "from operator import itemgetter\n",
    "import spotipy\n",
    "from spotipy.oauth2 import SpotifyClientCredentials\n",
    "from IPython.display import IFrame, Image\n",
    "\n",
    "%config Completer.use_jedi = False"
   ]
  },
  {
   "cell_type": "markdown",
   "id": "44f173f7",
   "metadata": {
    "slideshow": {
     "slide_type": "slide"
    }
   },
   "source": [
    "## The data"
   ]
  },
  {
   "cell_type": "markdown",
   "id": "4b2d92f9",
   "metadata": {
    "slideshow": {
     "slide_type": "subslide"
    }
   },
   "source": [
    "* Hot songs - 225 unique songs obtained by web scraping the US, UK and Germany official charts\n",
    "* Recommendation songs - 34358 unique songs from different genres and countries retrieved through the Spotify API"
   ]
  },
  {
   "cell_type": "markdown",
   "id": "ac14600e",
   "metadata": {
    "slideshow": {
     "slide_type": "subslide"
    }
   },
   "source": [
    "* 13 features:\n",
    "    * **danceability:** describes how suitable a track is for dancing based on a combination of musical elements including tempo, rhythm stability, beat strength, and overall regularity. Ranges from 0.0 to 1.0.\n",
    "    * **energy:** Energy is a measure from 0.0 to 1.0 and represents a perceptual measure of intensity and activity. Typically, energetic tracks feel fast, loud, and noisy.\n",
    "    * **key:** Integers map to pitches using standard Pitch Class notation. E.g. 0 = C, 1 = C♯/D♭, 2 = D. Ranges from -1 (no key detected) to 11.\n",
    "    * **loudness:** averaged decibels across the entire track. Values typically range between -60 and 0 db.\n",
    "    * **mode:**  indicates the modality (major - 1 or minor - 0) of a track, the type of scale from which its melodic content is derived."
   ]
  },
  {
   "cell_type": "markdown",
   "id": "391d0b6a",
   "metadata": {
    "slideshow": {
     "slide_type": "subslide"
    }
   },
   "source": [
    "* 13 features (cont'd):\n",
    "    * **speechiness:** detects the presence of spoken words in a track. The more exclusively speech-like the recording, the closer to 1.0 the attribute value.\n",
    "    * **acousticness:** confidence measure from 0.0 to 1.0 of whether the track is acoustic.\n",
    "    * **instrumentalness:** predicts whether a track contains no vocals (0.0 to 1.0)\n",
    "    * **liveness:** detects the presence of an audience in the recording (0.0 to 1.0).\n",
    "    * **valence:** measure from 0.0 to 1.0 describing the musical positiveness conveyed by a track (the closer to 1.0, the happier). \n",
    "    * **tempo:** overall estimated tempo of a track in beats per minute (BPM)\n",
    "    * **duration_ms**\n",
    "    * **time_signature:** a notational convention to specify how many beats are in each bar (or measure). It ranges from 3 to "
   ]
  },
  {
   "cell_type": "markdown",
   "id": "9d99af22",
   "metadata": {
    "slideshow": {
     "slide_type": "slide"
    }
   },
   "source": [
    "## Choosing k (K-Means)"
   ]
  },
  {
   "cell_type": "markdown",
   "id": "0cea86c4",
   "metadata": {
    "slideshow": {
     "slide_type": "subslide"
    }
   },
   "source": [
    "### Elbow method\n",
    "<img src='elbow.png' width='800' align='left'/>"
   ]
  },
  {
   "cell_type": "markdown",
   "id": "1a7d215d",
   "metadata": {
    "slideshow": {
     "slide_type": "subslide"
    }
   },
   "source": [
    "### Silhouette method\n",
    "<img src='silhouette.png' width='800' align='left'/>"
   ]
  },
  {
   "cell_type": "code",
   "execution_count": 2,
   "id": "d6719a95",
   "metadata": {
    "slideshow": {
     "slide_type": "skip"
    }
   },
   "outputs": [],
   "source": [
    "with open('Model/scaler.pickle', 'rb') as f: \n",
    "    scaler = pickle.load(f)\n",
    "\n",
    "with open('Model/kmeans_10.pickle', 'rb') as f: \n",
    "    model = pickle.load(f)\n",
    "    \n",
    "songs_scaled = pd.read_pickle('songs_clustered.pickle')\n",
    "hot_songs = pd.read_pickle('hot_songs.pickle')"
   ]
  },
  {
   "cell_type": "code",
   "execution_count": 3,
   "id": "0a55497a",
   "metadata": {
    "slideshow": {
     "slide_type": "skip"
    }
   },
   "outputs": [
    {
     "data": {
      "text/html": [
       "<div>\n",
       "<style scoped>\n",
       "    .dataframe tbody tr th:only-of-type {\n",
       "        vertical-align: middle;\n",
       "    }\n",
       "\n",
       "    .dataframe tbody tr th {\n",
       "        vertical-align: top;\n",
       "    }\n",
       "\n",
       "    .dataframe thead th {\n",
       "        text-align: right;\n",
       "    }\n",
       "</style>\n",
       "<table border=\"1\" class=\"dataframe\">\n",
       "  <thead>\n",
       "    <tr style=\"text-align: right;\">\n",
       "      <th></th>\n",
       "      <th>id</th>\n",
       "      <th>title</th>\n",
       "      <th>artists</th>\n",
       "      <th>danceability</th>\n",
       "      <th>energy</th>\n",
       "      <th>key</th>\n",
       "      <th>loudness</th>\n",
       "      <th>mode</th>\n",
       "      <th>speechiness</th>\n",
       "      <th>acousticness</th>\n",
       "      <th>instrumentalness</th>\n",
       "      <th>liveness</th>\n",
       "      <th>valence</th>\n",
       "      <th>tempo</th>\n",
       "      <th>duration_ms</th>\n",
       "      <th>time_signature</th>\n",
       "      <th>cluster</th>\n",
       "    </tr>\n",
       "  </thead>\n",
       "  <tbody>\n",
       "    <tr>\n",
       "      <th>0</th>\n",
       "      <td>33xMbeHzmWd6Od0BmLZEUs</td>\n",
       "      <td>2k</td>\n",
       "      <td>nosaj thing</td>\n",
       "      <td>-1.599636</td>\n",
       "      <td>-0.857371</td>\n",
       "      <td>0.487216</td>\n",
       "      <td>-1.256731</td>\n",
       "      <td>-1.388730</td>\n",
       "      <td>0.134288</td>\n",
       "      <td>-0.552637</td>\n",
       "      <td>-0.176626</td>\n",
       "      <td>-0.492752</td>\n",
       "      <td>-1.535655</td>\n",
       "      <td>-0.922147</td>\n",
       "      <td>-0.455235</td>\n",
       "      <td>-2.650057</td>\n",
       "      <td>4</td>\n",
       "    </tr>\n",
       "    <tr>\n",
       "      <th>1</th>\n",
       "      <td>3UnyplmZaq547hwsfOR5yy</td>\n",
       "      <td>4 billion souls</td>\n",
       "      <td>the doors</td>\n",
       "      <td>-0.939541</td>\n",
       "      <td>-0.335376</td>\n",
       "      <td>-0.071465</td>\n",
       "      <td>-0.829752</td>\n",
       "      <td>0.720082</td>\n",
       "      <td>-0.502148</td>\n",
       "      <td>-0.412299</td>\n",
       "      <td>0.884016</td>\n",
       "      <td>-0.399305</td>\n",
       "      <td>0.560588</td>\n",
       "      <td>1.072669</td>\n",
       "      <td>-0.244593</td>\n",
       "      <td>0.191635</td>\n",
       "      <td>9</td>\n",
       "    </tr>\n",
       "    <tr>\n",
       "      <th>2</th>\n",
       "      <td>1w8QCSDH4QobcQeT4uMKLm</td>\n",
       "      <td>4 minute warning</td>\n",
       "      <td>radiohead</td>\n",
       "      <td>-1.333175</td>\n",
       "      <td>-1.479415</td>\n",
       "      <td>1.045897</td>\n",
       "      <td>-1.190656</td>\n",
       "      <td>0.720082</td>\n",
       "      <td>-0.528050</td>\n",
       "      <td>1.066146</td>\n",
       "      <td>-0.164413</td>\n",
       "      <td>-0.505212</td>\n",
       "      <td>-1.133145</td>\n",
       "      <td>0.090762</td>\n",
       "      <td>-0.027275</td>\n",
       "      <td>0.191635</td>\n",
       "      <td>5</td>\n",
       "    </tr>\n",
       "    <tr>\n",
       "      <th>3</th>\n",
       "      <td>7J9mBHG4J2eIfDAv5BehKA</td>\n",
       "      <td>7 element</td>\n",
       "      <td>vitas</td>\n",
       "      <td>0.925682</td>\n",
       "      <td>0.621614</td>\n",
       "      <td>-0.071465</td>\n",
       "      <td>0.329052</td>\n",
       "      <td>-1.388730</td>\n",
       "      <td>-0.186397</td>\n",
       "      <td>0.201272</td>\n",
       "      <td>0.052680</td>\n",
       "      <td>0.734522</td>\n",
       "      <td>1.803988</td>\n",
       "      <td>0.301099</td>\n",
       "      <td>-0.000891</td>\n",
       "      <td>0.191635</td>\n",
       "      <td>1</td>\n",
       "    </tr>\n",
       "    <tr>\n",
       "      <th>4</th>\n",
       "      <td>1VZedwJj1gyi88WFRhfThb</td>\n",
       "      <td>#9 dream</td>\n",
       "      <td>r.e.m.</td>\n",
       "      <td>-0.019041</td>\n",
       "      <td>0.356267</td>\n",
       "      <td>-1.468168</td>\n",
       "      <td>0.505569</td>\n",
       "      <td>0.720082</td>\n",
       "      <td>-0.609455</td>\n",
       "      <td>-0.784032</td>\n",
       "      <td>-0.431504</td>\n",
       "      <td>-0.624201</td>\n",
       "      <td>-0.487534</td>\n",
       "      <td>-0.158889</td>\n",
       "      <td>0.131522</td>\n",
       "      <td>0.191635</td>\n",
       "      <td>8</td>\n",
       "    </tr>\n",
       "    <tr>\n",
       "      <th>...</th>\n",
       "      <td>...</td>\n",
       "      <td>...</td>\n",
       "      <td>...</td>\n",
       "      <td>...</td>\n",
       "      <td>...</td>\n",
       "      <td>...</td>\n",
       "      <td>...</td>\n",
       "      <td>...</td>\n",
       "      <td>...</td>\n",
       "      <td>...</td>\n",
       "      <td>...</td>\n",
       "      <td>...</td>\n",
       "      <td>...</td>\n",
       "      <td>...</td>\n",
       "      <td>...</td>\n",
       "      <td>...</td>\n",
       "      <td>...</td>\n",
       "    </tr>\n",
       "    <tr>\n",
       "      <th>34353</th>\n",
       "      <td>6pWgRkpqVfxnj3WuIcJ7WP</td>\n",
       "      <td>cornfield chase</td>\n",
       "      <td>hans zimmer</td>\n",
       "      <td>-2.386905</td>\n",
       "      <td>-1.810011</td>\n",
       "      <td>1.045897</td>\n",
       "      <td>-1.996667</td>\n",
       "      <td>-1.388730</td>\n",
       "      <td>-0.412110</td>\n",
       "      <td>2.244332</td>\n",
       "      <td>3.425302</td>\n",
       "      <td>-0.574986</td>\n",
       "      <td>-1.830564</td>\n",
       "      <td>-0.967846</td>\n",
       "      <td>-0.574677</td>\n",
       "      <td>0.191635</td>\n",
       "      <td>2</td>\n",
       "    </tr>\n",
       "    <tr>\n",
       "      <th>34354</th>\n",
       "      <td>6VfNTf0N1HwfFKl7Y18diU</td>\n",
       "      <td>omen</td>\n",
       "      <td>the prodigy</td>\n",
       "      <td>-0.176495</td>\n",
       "      <td>1.352407</td>\n",
       "      <td>0.487216</td>\n",
       "      <td>0.695204</td>\n",
       "      <td>0.720082</td>\n",
       "      <td>-0.386209</td>\n",
       "      <td>-0.856352</td>\n",
       "      <td>0.017220</td>\n",
       "      <td>0.553857</td>\n",
       "      <td>0.201915</td>\n",
       "      <td>0.670438</td>\n",
       "      <td>-0.159118</td>\n",
       "      <td>0.191635</td>\n",
       "      <td>9</td>\n",
       "    </tr>\n",
       "    <tr>\n",
       "      <th>34355</th>\n",
       "      <td>28d1X9lfagOD4iFULH4qEK</td>\n",
       "      <td>dark star - homemade weapons remix</td>\n",
       "      <td>quadrant, iris, homemade weapons</td>\n",
       "      <td>-1.436126</td>\n",
       "      <td>1.456806</td>\n",
       "      <td>1.045897</td>\n",
       "      <td>1.453031</td>\n",
       "      <td>0.720082</td>\n",
       "      <td>0.273662</td>\n",
       "      <td>-0.843365</td>\n",
       "      <td>2.991904</td>\n",
       "      <td>0.423031</td>\n",
       "      <td>-1.789915</td>\n",
       "      <td>1.735860</td>\n",
       "      <td>0.445923</td>\n",
       "      <td>0.191635</td>\n",
       "      <td>6</td>\n",
       "    </tr>\n",
       "    <tr>\n",
       "      <th>34356</th>\n",
       "      <td>5HiSc2ZCGn8L3cH3qSwzBT</td>\n",
       "      <td>러시안 룰렛 russian roulette</td>\n",
       "      <td>red velvet</td>\n",
       "      <td>0.919626</td>\n",
       "      <td>1.134909</td>\n",
       "      <td>0.487216</td>\n",
       "      <td>1.385764</td>\n",
       "      <td>-1.388730</td>\n",
       "      <td>-0.489814</td>\n",
       "      <td>-0.679921</td>\n",
       "      <td>-0.442871</td>\n",
       "      <td>-0.212410</td>\n",
       "      <td>1.796017</td>\n",
       "      <td>0.313121</td>\n",
       "      <td>-0.181434</td>\n",
       "      <td>0.191635</td>\n",
       "      <td>1</td>\n",
       "    </tr>\n",
       "    <tr>\n",
       "      <th>34357</th>\n",
       "      <td>6XQhcuKiotvDsk8rBlrySQ</td>\n",
       "      <td>bass slut - x-fir3 remix</td>\n",
       "      <td>s3rl</td>\n",
       "      <td>-1.478517</td>\n",
       "      <td>1.426356</td>\n",
       "      <td>1.325238</td>\n",
       "      <td>0.183784</td>\n",
       "      <td>-1.388730</td>\n",
       "      <td>0.315598</td>\n",
       "      <td>-0.858378</td>\n",
       "      <td>-0.426539</td>\n",
       "      <td>2.204759</td>\n",
       "      <td>-0.790413</td>\n",
       "      <td>1.924043</td>\n",
       "      <td>0.048710</td>\n",
       "      <td>0.191635</td>\n",
       "      <td>0</td>\n",
       "    </tr>\n",
       "  </tbody>\n",
       "</table>\n",
       "<p>34358 rows × 17 columns</p>\n",
       "</div>"
      ],
      "text/plain": [
       "                           id                               title  \\\n",
       "0      33xMbeHzmWd6Od0BmLZEUs                                  2k   \n",
       "1      3UnyplmZaq547hwsfOR5yy                     4 billion souls   \n",
       "2      1w8QCSDH4QobcQeT4uMKLm                    4 minute warning   \n",
       "3      7J9mBHG4J2eIfDAv5BehKA                           7 element   \n",
       "4      1VZedwJj1gyi88WFRhfThb                            #9 dream   \n",
       "...                       ...                                 ...   \n",
       "34353  6pWgRkpqVfxnj3WuIcJ7WP                     cornfield chase   \n",
       "34354  6VfNTf0N1HwfFKl7Y18diU                                omen   \n",
       "34355  28d1X9lfagOD4iFULH4qEK  dark star - homemade weapons remix   \n",
       "34356  5HiSc2ZCGn8L3cH3qSwzBT             러시안 룰렛 russian roulette   \n",
       "34357  6XQhcuKiotvDsk8rBlrySQ            bass slut - x-fir3 remix   \n",
       "\n",
       "                                artists  danceability    energy       key  \\\n",
       "0                           nosaj thing     -1.599636 -0.857371  0.487216   \n",
       "1                             the doors     -0.939541 -0.335376 -0.071465   \n",
       "2                             radiohead     -1.333175 -1.479415  1.045897   \n",
       "3                                 vitas      0.925682  0.621614 -0.071465   \n",
       "4                                r.e.m.     -0.019041  0.356267 -1.468168   \n",
       "...                                 ...           ...       ...       ...   \n",
       "34353                       hans zimmer     -2.386905 -1.810011  1.045897   \n",
       "34354                       the prodigy     -0.176495  1.352407  0.487216   \n",
       "34355  quadrant, iris, homemade weapons     -1.436126  1.456806  1.045897   \n",
       "34356                        red velvet      0.919626  1.134909  0.487216   \n",
       "34357                              s3rl     -1.478517  1.426356  1.325238   \n",
       "\n",
       "       loudness      mode  speechiness  acousticness  instrumentalness  \\\n",
       "0     -1.256731 -1.388730     0.134288     -0.552637         -0.176626   \n",
       "1     -0.829752  0.720082    -0.502148     -0.412299          0.884016   \n",
       "2     -1.190656  0.720082    -0.528050      1.066146         -0.164413   \n",
       "3      0.329052 -1.388730    -0.186397      0.201272          0.052680   \n",
       "4      0.505569  0.720082    -0.609455     -0.784032         -0.431504   \n",
       "...         ...       ...          ...           ...               ...   \n",
       "34353 -1.996667 -1.388730    -0.412110      2.244332          3.425302   \n",
       "34354  0.695204  0.720082    -0.386209     -0.856352          0.017220   \n",
       "34355  1.453031  0.720082     0.273662     -0.843365          2.991904   \n",
       "34356  1.385764 -1.388730    -0.489814     -0.679921         -0.442871   \n",
       "34357  0.183784 -1.388730     0.315598     -0.858378         -0.426539   \n",
       "\n",
       "       liveness   valence     tempo  duration_ms  time_signature  cluster  \n",
       "0     -0.492752 -1.535655 -0.922147    -0.455235       -2.650057        4  \n",
       "1     -0.399305  0.560588  1.072669    -0.244593        0.191635        9  \n",
       "2     -0.505212 -1.133145  0.090762    -0.027275        0.191635        5  \n",
       "3      0.734522  1.803988  0.301099    -0.000891        0.191635        1  \n",
       "4     -0.624201 -0.487534 -0.158889     0.131522        0.191635        8  \n",
       "...         ...       ...       ...          ...             ...      ...  \n",
       "34353 -0.574986 -1.830564 -0.967846    -0.574677        0.191635        2  \n",
       "34354  0.553857  0.201915  0.670438    -0.159118        0.191635        9  \n",
       "34355  0.423031 -1.789915  1.735860     0.445923        0.191635        6  \n",
       "34356 -0.212410  1.796017  0.313121    -0.181434        0.191635        1  \n",
       "34357  2.204759 -0.790413  1.924043     0.048710        0.191635        0  \n",
       "\n",
       "[34358 rows x 17 columns]"
      ]
     },
     "execution_count": 3,
     "metadata": {},
     "output_type": "execute_result"
    }
   ],
   "source": [
    "songs_scaled"
   ]
  },
  {
   "cell_type": "code",
   "execution_count": 4,
   "id": "e58c5496",
   "metadata": {
    "slideshow": {
     "slide_type": "skip"
    }
   },
   "outputs": [
    {
     "data": {
      "text/html": [
       "<div>\n",
       "<style scoped>\n",
       "    .dataframe tbody tr th:only-of-type {\n",
       "        vertical-align: middle;\n",
       "    }\n",
       "\n",
       "    .dataframe tbody tr th {\n",
       "        vertical-align: top;\n",
       "    }\n",
       "\n",
       "    .dataframe thead th {\n",
       "        text-align: right;\n",
       "    }\n",
       "</style>\n",
       "<table border=\"1\" class=\"dataframe\">\n",
       "  <thead>\n",
       "    <tr style=\"text-align: right;\">\n",
       "      <th></th>\n",
       "      <th>song</th>\n",
       "      <th>artist</th>\n",
       "    </tr>\n",
       "  </thead>\n",
       "  <tbody>\n",
       "    <tr>\n",
       "      <th>0</th>\n",
       "      <td>all too well (taylor's version)</td>\n",
       "      <td>taylor swift</td>\n",
       "    </tr>\n",
       "    <tr>\n",
       "      <th>1</th>\n",
       "      <td>easy on me</td>\n",
       "      <td>adele</td>\n",
       "    </tr>\n",
       "    <tr>\n",
       "      <th>2</th>\n",
       "      <td>stay</td>\n",
       "      <td>the kid laroi &amp; justin bieber</td>\n",
       "    </tr>\n",
       "    <tr>\n",
       "      <th>3</th>\n",
       "      <td>industry baby</td>\n",
       "      <td>lil nas x &amp; jack harlow</td>\n",
       "    </tr>\n",
       "    <tr>\n",
       "      <th>4</th>\n",
       "      <td>smokin out the window</td>\n",
       "      <td>silk sonic (bruno mars &amp; anderson .paak)</td>\n",
       "    </tr>\n",
       "    <tr>\n",
       "      <th>...</th>\n",
       "      <td>...</td>\n",
       "      <td>...</td>\n",
       "    </tr>\n",
       "    <tr>\n",
       "      <th>220</th>\n",
       "      <td>in da getto</td>\n",
       "      <td>j balvin &amp; skrillex</td>\n",
       "    </tr>\n",
       "    <tr>\n",
       "      <th>221</th>\n",
       "      <td>stimmen</td>\n",
       "      <td>musso</td>\n",
       "    </tr>\n",
       "    <tr>\n",
       "      <th>222</th>\n",
       "      <td>wasted love</td>\n",
       "      <td>ofenbach feat. lagique</td>\n",
       "    </tr>\n",
       "    <tr>\n",
       "      <th>223</th>\n",
       "      <td>mond</td>\n",
       "      <td>montez x badmómzjay</td>\n",
       "    </tr>\n",
       "    <tr>\n",
       "      <th>224</th>\n",
       "      <td>moje sve</td>\n",
       "      <td>hava</td>\n",
       "    </tr>\n",
       "  </tbody>\n",
       "</table>\n",
       "<p>225 rows × 2 columns</p>\n",
       "</div>"
      ],
      "text/plain": [
       "                                song                                    artist\n",
       "0    all too well (taylor's version)                              taylor swift\n",
       "1                         easy on me                                     adele\n",
       "2                               stay             the kid laroi & justin bieber\n",
       "3                      industry baby                   lil nas x & jack harlow\n",
       "4              smokin out the window  silk sonic (bruno mars & anderson .paak)\n",
       "..                               ...                                       ...\n",
       "220                      in da getto                       j balvin & skrillex\n",
       "221                          stimmen                                     musso\n",
       "222                      wasted love                    ofenbach feat. lagique\n",
       "223                             mond                       montez x badmómzjay\n",
       "224                         moje sve                                      hava\n",
       "\n",
       "[225 rows x 2 columns]"
      ]
     },
     "execution_count": 4,
     "metadata": {},
     "output_type": "execute_result"
    }
   ],
   "source": [
    "hot_songs"
   ]
  },
  {
   "cell_type": "code",
   "execution_count": 5,
   "id": "08bdd4a3",
   "metadata": {
    "slideshow": {
     "slide_type": "skip"
    }
   },
   "outputs": [],
   "source": [
    "feat_names = ['danceability', 'energy', 'key', 'loudness', 'mode', 'speechiness', 'acousticness',\n",
    "              'instrumentalness', 'liveness', 'valence', 'tempo', 'duration_ms', 'time_signature']"
   ]
  },
  {
   "cell_type": "code",
   "execution_count": 6,
   "id": "13121f03",
   "metadata": {
    "slideshow": {
     "slide_type": "skip"
    }
   },
   "outputs": [],
   "source": [
    "sp = spotipy.Spotify(auth_manager=SpotifyClientCredentials(client_id=config.client_id,\n",
    "                                                           client_secret=config.client_secret))"
   ]
  },
  {
   "cell_type": "code",
   "execution_count": 7,
   "id": "9f215559",
   "metadata": {
    "slideshow": {
     "slide_type": "skip"
    }
   },
   "outputs": [],
   "source": [
    "def spotify_player(track_id):\n",
    "\n",
    "    return IFrame(src=f\"https://open.spotify.com/embed/track/{track_id}\",\n",
    "       width=\"320\",\n",
    "       height=\"80\",\n",
    "       frameborder=\"0\",\n",
    "       allowtransparency=\"true\",\n",
    "       allow=\"encrypted-media\",\n",
    "      )"
   ]
  },
  {
   "cell_type": "code",
   "execution_count": 10,
   "id": "b8014f96",
   "metadata": {
    "slideshow": {
     "slide_type": "skip"
    }
   },
   "outputs": [],
   "source": [
    "def song_suggestion():\n",
    "    \n",
    "    user_song = input('Enter a song: ')\n",
    "    songs = hot_songs['song'].values\n",
    "    \n",
    "    if user_song.lower() in songs:\n",
    "        suggestion = hot_songs.sample(1)\n",
    "        song_suggestion = suggestion.iloc[0][0]\n",
    "        by_artist = suggestion.iloc[0][1]\n",
    "         \n",
    "        print('Here\\'s another hot song for you: ' +\n",
    "                     '\\033[1m' + song_suggestion.title() +  '\\033[0m' +\n",
    "                     ' by ' + by_artist.title())\n",
    "    \n",
    "    else:\n",
    "        \n",
    "        try:\n",
    "            \n",
    "            responses = sp.search(q=user_song, type=\"track\", limit=25, market='US')\n",
    "            tracks = responses['tracks']['items']\n",
    "        \n",
    "        except:\n",
    "            print('It seemns like this song doesn\\'t exist. Please, try again!')\n",
    "            song_suggestion()\n",
    "        \n",
    "        else:\n",
    "            artists_song_id = {}\n",
    "                \n",
    "            for track in tracks:\n",
    "                \n",
    "                multiple_artists = []\n",
    "                for artist in track['artists']:\n",
    "                    multiple_artists.append(artist['name'])\n",
    "                artists = ', '.join(multiple_artists)\n",
    "                \n",
    "                if artists not in artists_song_id.keys():\n",
    "                    artists_song_id[artists] = track['id']\n",
    "                \n",
    "            artists_list = list(artists_song_id.keys())\n",
    "                        \n",
    "            if len(artists_list) > 0:\n",
    "                enumerated_artists = list(enumerate(artists_list))\n",
    "                print('\\nUnfortunately the song is not in the hot list!\\n')\n",
    "                print('Maybe we can recommend you something else based on your input.')\n",
    "                print('First, we need to know the artist/s from your song:\\n')\n",
    "                print(*enumerated_artists, sep='\\n')\n",
    "                artist_number = input('\\nPlease, choose a number from the list: ')\n",
    "            \n",
    "            input_ = False\n",
    "            \n",
    "            while input_ == False:\n",
    "                try:\n",
    "                    artist_number = int(artist_number)\n",
    "                    key = artists_list[artist_number]\n",
    "                    input_ = True\n",
    "                    \n",
    "                except:\n",
    "                    artist_number = input('Please, enter a valid number: ')\n",
    "                 \n",
    "                else:\n",
    "                    id_ = artists_song_id[key]\n",
    "                    \n",
    "                    all_feats = sp.audio_features(id_)[0]\n",
    "                    \n",
    "                    selected_feats = {key: all_feats[key] for key in feat_names}\n",
    "                    \n",
    "                    features_df = pd.DataFrame([selected_feats])\n",
    "                    \n",
    "                    feat_scaled = pd.DataFrame(scaler.transform(features_df), columns=feat_names)\n",
    "                    \n",
    "                    cluster_recommended = model.predict(feat_scaled)[0]\n",
    "                    \n",
    "                    recommended_id = songs_scaled['id'][songs_scaled['cluster'] ==  cluster_recommended].sample(1).values[0]\n",
    "    \n",
    "    return spotify_player(recommended_id)"
   ]
  },
  {
   "cell_type": "markdown",
   "id": "498def24",
   "metadata": {
    "slideshow": {
     "slide_type": "slide"
    }
   },
   "source": [
    "## Our recommender"
   ]
  },
  {
   "cell_type": "code",
   "execution_count": 13,
   "id": "6574c5cd",
   "metadata": {
    "slideshow": {
     "slide_type": "subslide"
    }
   },
   "outputs": [
    {
     "name": "stdout",
     "output_type": "stream",
     "text": [
      "Enter a song: irreplaceable\n",
      "\n",
      "Unfortunately the song is not in the hot list!\n",
      "\n",
      "Maybe we can recommend you something else based on your input.\n",
      "First, we need to know the artist/s from your song:\n",
      "\n",
      "(0, 'Beyoncé')\n",
      "(1, 'Madilyn Paige')\n",
      "(2, 'NCT DREAM')\n",
      "(3, 'C Blu')\n",
      "(4, 'Riley Clemmons')\n",
      "(5, 'Ed Patrick')\n",
      "(6, 'JUNG')\n",
      "(7, 'Tundra Beats, Darkforestdrives')\n",
      "(8, 'IcyDaRabbit, CG5')\n",
      "(9, 'Zak Manley')\n",
      "(10, 'Sugarland')\n",
      "(11, 'Kendra Logozar')\n",
      "(12, 'Beyoncé, DJ Speedy, Ghost')\n",
      "(13, 'Vybz Kartel, Lisa Hyper')\n",
      "(14, 'Rockabye Baby!')\n",
      "(15, 'Anthem Lights')\n",
      "\n",
      "Please, choose a number from the list: 0\n"
     ]
    },
    {
     "data": {
      "text/html": [
       "\n",
       "        <iframe\n",
       "            width=\"320\"\n",
       "            height=\"80\"\n",
       "            src=\"https://open.spotify.com/embed/track/5nEdwtSv0qqeE0l4o1lR4q?frameborder=0&allowtransparency=true&allow=encrypted-media\"\n",
       "            frameborder=\"0\"\n",
       "            allowfullscreen\n",
       "        ></iframe>\n",
       "        "
      ],
      "text/plain": [
       "<IPython.lib.display.IFrame at 0x226ef997248>"
      ]
     },
     "execution_count": 13,
     "metadata": {},
     "output_type": "execute_result"
    }
   ],
   "source": [
    "song_suggestion()"
   ]
  },
  {
   "cell_type": "code",
   "execution_count": null,
   "id": "f01d2180",
   "metadata": {},
   "outputs": [],
   "source": []
  }
 ],
 "metadata": {
  "celltoolbar": "Slideshow",
  "kernelspec": {
   "display_name": "Python 3",
   "language": "python",
   "name": "python3"
  },
  "language_info": {
   "codemirror_mode": {
    "name": "ipython",
    "version": 3
   },
   "file_extension": ".py",
   "mimetype": "text/x-python",
   "name": "python",
   "nbconvert_exporter": "python",
   "pygments_lexer": "ipython3",
   "version": "3.7.11"
  }
 },
 "nbformat": 4,
 "nbformat_minor": 5
}
