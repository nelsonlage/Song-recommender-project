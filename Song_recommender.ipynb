{
 "cells": [
  {
   "cell_type": "markdown",
   "id": "383418ec",
   "metadata": {
    "slideshow": {
     "slide_type": "slide"
    }
   },
   "source": [
    "<img src='images/gnod.png' width='75' align='left'/> <h1> Song recommender project </h1>\n",
    "_____\n",
    "                                                                                Nelson Lage\n",
    "                                                                                       Gnod"
   ]
  },
  {
   "cell_type": "code",
   "execution_count": 5,
   "id": "03cbe11d",
   "metadata": {
    "slideshow": {
     "slide_type": "skip"
    }
   },
   "outputs": [],
   "source": [
    "import config\n",
    "import pickle\n",
    "import pandas as pd\n",
    "from operator import itemgetter\n",
    "import spotipy\n",
    "from spotipy.oauth2 import SpotifyClientCredentials\n",
    "from IPython.display import IFrame, Image\n",
    "\n",
    "%config Completer.use_jedi = False"
   ]
  },
  {
   "cell_type": "markdown",
   "id": "44f173f7",
   "metadata": {
    "slideshow": {
     "slide_type": "slide"
    }
   },
   "source": [
    "## The data"
   ]
  },
  {
   "cell_type": "markdown",
   "id": "4b2d92f9",
   "metadata": {
    "slideshow": {
     "slide_type": "subslide"
    }
   },
   "source": [
    "* Hot songs - 225 unique songs obtained by web scraping the US, UK and Germany official charts\n",
    "* Recommendation songs - 34358 unique songs from different genres and countries retrieved through the Spotify API"
   ]
  },
  {
   "cell_type": "markdown",
   "id": "ac14600e",
   "metadata": {
    "slideshow": {
     "slide_type": "subslide"
    }
   },
   "source": [
    "* 13 features:\n",
    "    * **danceability:** describes how suitable a track is for dancing based on a combination of musical elements including tempo, rhythm stability, beat strength, and overall regularity. Ranges from 0.0 to 1.0.\n",
    "    * **energy:** Energy is a measure from 0.0 to 1.0 and represents a perceptual measure of intensity and activity. Typically, energetic tracks feel fast, loud, and noisy.\n",
    "    * **key:** Integers map to pitches using standard Pitch Class notation. E.g. 0 = C, 1 = C♯/D♭, 2 = D. Ranges from -1 (no key detected) to 11.\n",
    "    * **loudness:** averaged decibels across the entire track. Values typically range between -60 and 0 db.\n",
    "    * **mode:**  indicates the modality (major - 1 or minor - 0) of a track, the type of scale from which its melodic content is derived."
   ]
  },
  {
   "cell_type": "markdown",
   "id": "391d0b6a",
   "metadata": {
    "slideshow": {
     "slide_type": "subslide"
    }
   },
   "source": [
    "* 13 features (cont'd):\n",
    "    * **speechiness:** detects the presence of spoken words in a track. The more exclusively speech-like the recording, the closer to 1.0 the attribute value.\n",
    "    * **acousticness:** confidence measure from 0.0 to 1.0 of whether the track is acoustic.\n",
    "    * **instrumentalness:** predicts whether a track contains no vocals (0.0 to 1.0)\n",
    "    * **liveness:** detects the presence of an audience in the recording (0.0 to 1.0).\n",
    "    * **valence:** measure from 0.0 to 1.0 describing the musical positiveness conveyed by a track (the closer to 1.0, the happier). \n",
    "    * **tempo:** overall estimated tempo of a track in beats per minute (BPM)\n",
    "    * **duration_ms**\n",
    "    * **time_signature:** a notational convention to specify how many beats are in each bar (or measure). It ranges from 3 to 7."
   ]
  },
  {
   "cell_type": "markdown",
   "id": "9d99af22",
   "metadata": {
    "slideshow": {
     "slide_type": "slide"
    }
   },
   "source": [
    "## Choosing k (K-Means)"
   ]
  },
  {
   "cell_type": "markdown",
   "id": "de1473c3",
   "metadata": {
    "slideshow": {
     "slide_type": "subslide"
    }
   },
   "source": [
    "### Elbow method\n",
    "<img src='images/elbow.png' width='800' align='left'/>"
   ]
  },
  {
   "cell_type": "markdown",
   "id": "1a7d215d",
   "metadata": {
    "slideshow": {
     "slide_type": "subslide"
    }
   },
   "source": [
    "### Silhouette method\n",
    "<img src='images/silhouette.png' width='800' align='left'/>"
   ]
  },
  {
   "cell_type": "code",
   "execution_count": 9,
   "id": "d6719a95",
   "metadata": {
    "slideshow": {
     "slide_type": "skip"
    }
   },
   "outputs": [],
   "source": [
    "with open('models/scaler.pickle', 'rb') as f: \n",
    "    scaler = pickle.load(f)\n",
    "\n",
    "with open('models/kmeans_10.pickle', 'rb') as f: \n",
    "    model = pickle.load(f)\n",
    "    \n",
    "songs_scaled = pd.read_pickle('datasets/songs_clustered.pickle')\n",
    "hot_songs = pd.read_pickle('datasets/hot_songs.pickle')"
   ]
  },
  {
   "cell_type": "code",
   "execution_count": 10,
   "id": "0a55497a",
   "metadata": {
    "slideshow": {
     "slide_type": "skip"
    }
   },
   "outputs": [
    {
     "data": {
      "text/html": [
       "<div>\n",
       "<style scoped>\n",
       "    .dataframe tbody tr th:only-of-type {\n",
       "        vertical-align: middle;\n",
       "    }\n",
       "\n",
       "    .dataframe tbody tr th {\n",
       "        vertical-align: top;\n",
       "    }\n",
       "\n",
       "    .dataframe thead th {\n",
       "        text-align: right;\n",
       "    }\n",
       "</style>\n",
       "<table border=\"1\" class=\"dataframe\">\n",
       "  <thead>\n",
       "    <tr style=\"text-align: right;\">\n",
       "      <th></th>\n",
       "      <th>id</th>\n",
       "      <th>title</th>\n",
       "      <th>artists</th>\n",
       "      <th>danceability</th>\n",
       "      <th>energy</th>\n",
       "      <th>key</th>\n",
       "      <th>loudness</th>\n",
       "      <th>mode</th>\n",
       "      <th>speechiness</th>\n",
       "      <th>acousticness</th>\n",
       "      <th>instrumentalness</th>\n",
       "      <th>liveness</th>\n",
       "      <th>valence</th>\n",
       "      <th>tempo</th>\n",
       "      <th>duration_ms</th>\n",
       "      <th>time_signature</th>\n",
       "      <th>cluster</th>\n",
       "    </tr>\n",
       "  </thead>\n",
       "  <tbody>\n",
       "    <tr>\n",
       "      <th>0</th>\n",
       "      <td>33xMbeHzmWd6Od0BmLZEUs</td>\n",
       "      <td>2k</td>\n",
       "      <td>nosaj thing</td>\n",
       "      <td>-1.599557</td>\n",
       "      <td>-0.857329</td>\n",
       "      <td>0.487352</td>\n",
       "      <td>-1.256756</td>\n",
       "      <td>-1.388881</td>\n",
       "      <td>0.134295</td>\n",
       "      <td>-0.552654</td>\n",
       "      <td>-0.176625</td>\n",
       "      <td>-0.492765</td>\n",
       "      <td>-1.535615</td>\n",
       "      <td>-0.922229</td>\n",
       "      <td>-0.455240</td>\n",
       "      <td>-2.649790</td>\n",
       "      <td>9</td>\n",
       "    </tr>\n",
       "    <tr>\n",
       "      <th>1</th>\n",
       "      <td>3UnyplmZaq547hwsfOR5yy</td>\n",
       "      <td>4 billion souls</td>\n",
       "      <td>the doors</td>\n",
       "      <td>-0.939474</td>\n",
       "      <td>-0.335347</td>\n",
       "      <td>-0.071322</td>\n",
       "      <td>-0.829766</td>\n",
       "      <td>0.720004</td>\n",
       "      <td>-0.502147</td>\n",
       "      <td>-0.412321</td>\n",
       "      <td>0.883945</td>\n",
       "      <td>-0.399318</td>\n",
       "      <td>0.560618</td>\n",
       "      <td>1.072723</td>\n",
       "      <td>-0.244592</td>\n",
       "      <td>0.191693</td>\n",
       "      <td>8</td>\n",
       "    </tr>\n",
       "    <tr>\n",
       "      <th>2</th>\n",
       "      <td>1w8QCSDH4QobcQeT4uMKLm</td>\n",
       "      <td>4 minute warning</td>\n",
       "      <td>radiohead</td>\n",
       "      <td>-1.333102</td>\n",
       "      <td>-1.479359</td>\n",
       "      <td>1.046025</td>\n",
       "      <td>-1.190680</td>\n",
       "      <td>0.720004</td>\n",
       "      <td>-0.528049</td>\n",
       "      <td>1.066067</td>\n",
       "      <td>-0.164412</td>\n",
       "      <td>-0.505225</td>\n",
       "      <td>-1.133107</td>\n",
       "      <td>0.090749</td>\n",
       "      <td>-0.027268</td>\n",
       "      <td>0.191693</td>\n",
       "      <td>5</td>\n",
       "    </tr>\n",
       "    <tr>\n",
       "      <th>3</th>\n",
       "      <td>7J9mBHG4J2eIfDAv5BehKA</td>\n",
       "      <td>7 element</td>\n",
       "      <td>vitas</td>\n",
       "      <td>0.925714</td>\n",
       "      <td>0.621622</td>\n",
       "      <td>-0.071322</td>\n",
       "      <td>0.329069</td>\n",
       "      <td>-1.388881</td>\n",
       "      <td>-0.186393</td>\n",
       "      <td>0.201226</td>\n",
       "      <td>0.052666</td>\n",
       "      <td>0.734507</td>\n",
       "      <td>1.804011</td>\n",
       "      <td>0.301100</td>\n",
       "      <td>-0.000883</td>\n",
       "      <td>0.191693</td>\n",
       "      <td>3</td>\n",
       "    </tr>\n",
       "    <tr>\n",
       "      <th>4</th>\n",
       "      <td>1VZedwJj1gyi88WFRhfThb</td>\n",
       "      <td>#9 dream</td>\n",
       "      <td>r.e.m.</td>\n",
       "      <td>-0.018992</td>\n",
       "      <td>0.356281</td>\n",
       "      <td>-1.468006</td>\n",
       "      <td>0.505590</td>\n",
       "      <td>0.720004</td>\n",
       "      <td>-0.609455</td>\n",
       "      <td>-0.784039</td>\n",
       "      <td>-0.431485</td>\n",
       "      <td>-0.624214</td>\n",
       "      <td>-0.487499</td>\n",
       "      <td>-0.158919</td>\n",
       "      <td>0.131533</td>\n",
       "      <td>0.191693</td>\n",
       "      <td>1</td>\n",
       "    </tr>\n",
       "    <tr>\n",
       "      <th>...</th>\n",
       "      <td>...</td>\n",
       "      <td>...</td>\n",
       "      <td>...</td>\n",
       "      <td>...</td>\n",
       "      <td>...</td>\n",
       "      <td>...</td>\n",
       "      <td>...</td>\n",
       "      <td>...</td>\n",
       "      <td>...</td>\n",
       "      <td>...</td>\n",
       "      <td>...</td>\n",
       "      <td>...</td>\n",
       "      <td>...</td>\n",
       "      <td>...</td>\n",
       "      <td>...</td>\n",
       "      <td>...</td>\n",
       "      <td>...</td>\n",
       "    </tr>\n",
       "    <tr>\n",
       "      <th>34355</th>\n",
       "      <td>6pWgRkpqVfxnj3WuIcJ7WP</td>\n",
       "      <td>cornfield chase</td>\n",
       "      <td>hans zimmer</td>\n",
       "      <td>-2.386812</td>\n",
       "      <td>-1.809948</td>\n",
       "      <td>1.046025</td>\n",
       "      <td>-1.996712</td>\n",
       "      <td>-1.388881</td>\n",
       "      <td>-0.412108</td>\n",
       "      <td>2.244209</td>\n",
       "      <td>3.425056</td>\n",
       "      <td>-0.574999</td>\n",
       "      <td>-1.830523</td>\n",
       "      <td>-0.967932</td>\n",
       "      <td>-0.574685</td>\n",
       "      <td>0.191693</td>\n",
       "      <td>2</td>\n",
       "    </tr>\n",
       "    <tr>\n",
       "      <th>34356</th>\n",
       "      <td>6VfNTf0N1HwfFKl7Y18diU</td>\n",
       "      <td>omen</td>\n",
       "      <td>the prodigy</td>\n",
       "      <td>-0.176443</td>\n",
       "      <td>1.352398</td>\n",
       "      <td>0.487352</td>\n",
       "      <td>0.695230</td>\n",
       "      <td>0.720004</td>\n",
       "      <td>-0.386206</td>\n",
       "      <td>-0.856356</td>\n",
       "      <td>0.017209</td>\n",
       "      <td>0.553843</td>\n",
       "      <td>0.201947</td>\n",
       "      <td>0.670465</td>\n",
       "      <td>-0.159115</td>\n",
       "      <td>0.191693</td>\n",
       "      <td>8</td>\n",
       "    </tr>\n",
       "    <tr>\n",
       "      <th>34357</th>\n",
       "      <td>28d1X9lfagOD4iFULH4qEK</td>\n",
       "      <td>dark star - homemade weapons remix</td>\n",
       "      <td>quadrant, iris, homemade weapons</td>\n",
       "      <td>-1.436051</td>\n",
       "      <td>1.456794</td>\n",
       "      <td>1.046025</td>\n",
       "      <td>1.453077</td>\n",
       "      <td>0.720004</td>\n",
       "      <td>0.273671</td>\n",
       "      <td>-0.843371</td>\n",
       "      <td>2.991688</td>\n",
       "      <td>0.423017</td>\n",
       "      <td>-1.789873</td>\n",
       "      <td>1.735959</td>\n",
       "      <td>0.445944</td>\n",
       "      <td>0.191693</td>\n",
       "      <td>4</td>\n",
       "    </tr>\n",
       "    <tr>\n",
       "      <th>34358</th>\n",
       "      <td>5HiSc2ZCGn8L3cH3qSwzBT</td>\n",
       "      <td>러시안 룰렛 russian roulette</td>\n",
       "      <td>red velvet</td>\n",
       "      <td>0.919658</td>\n",
       "      <td>1.134905</td>\n",
       "      <td>0.487352</td>\n",
       "      <td>1.385809</td>\n",
       "      <td>-1.388881</td>\n",
       "      <td>-0.489813</td>\n",
       "      <td>-0.679932</td>\n",
       "      <td>-0.442851</td>\n",
       "      <td>-0.212424</td>\n",
       "      <td>1.796041</td>\n",
       "      <td>0.313123</td>\n",
       "      <td>-0.181431</td>\n",
       "      <td>0.191693</td>\n",
       "      <td>3</td>\n",
       "    </tr>\n",
       "    <tr>\n",
       "      <th>34359</th>\n",
       "      <td>6XQhcuKiotvDsk8rBlrySQ</td>\n",
       "      <td>bass slut - x-fir3 remix</td>\n",
       "      <td>s3rl</td>\n",
       "      <td>-1.478441</td>\n",
       "      <td>1.426345</td>\n",
       "      <td>1.325362</td>\n",
       "      <td>0.183797</td>\n",
       "      <td>-1.388881</td>\n",
       "      <td>0.315607</td>\n",
       "      <td>-0.858383</td>\n",
       "      <td>-0.426521</td>\n",
       "      <td>2.204742</td>\n",
       "      <td>-0.790377</td>\n",
       "      <td>1.924155</td>\n",
       "      <td>0.048720</td>\n",
       "      <td>0.191693</td>\n",
       "      <td>6</td>\n",
       "    </tr>\n",
       "  </tbody>\n",
       "</table>\n",
       "<p>34360 rows × 17 columns</p>\n",
       "</div>"
      ],
      "text/plain": [
       "                           id                               title  \\\n",
       "0      33xMbeHzmWd6Od0BmLZEUs                                  2k   \n",
       "1      3UnyplmZaq547hwsfOR5yy                     4 billion souls   \n",
       "2      1w8QCSDH4QobcQeT4uMKLm                    4 minute warning   \n",
       "3      7J9mBHG4J2eIfDAv5BehKA                           7 element   \n",
       "4      1VZedwJj1gyi88WFRhfThb                            #9 dream   \n",
       "...                       ...                                 ...   \n",
       "34355  6pWgRkpqVfxnj3WuIcJ7WP                     cornfield chase   \n",
       "34356  6VfNTf0N1HwfFKl7Y18diU                                omen   \n",
       "34357  28d1X9lfagOD4iFULH4qEK  dark star - homemade weapons remix   \n",
       "34358  5HiSc2ZCGn8L3cH3qSwzBT             러시안 룰렛 russian roulette   \n",
       "34359  6XQhcuKiotvDsk8rBlrySQ            bass slut - x-fir3 remix   \n",
       "\n",
       "                                artists  danceability    energy       key  \\\n",
       "0                           nosaj thing     -1.599557 -0.857329  0.487352   \n",
       "1                             the doors     -0.939474 -0.335347 -0.071322   \n",
       "2                             radiohead     -1.333102 -1.479359  1.046025   \n",
       "3                                 vitas      0.925714  0.621622 -0.071322   \n",
       "4                                r.e.m.     -0.018992  0.356281 -1.468006   \n",
       "...                                 ...           ...       ...       ...   \n",
       "34355                       hans zimmer     -2.386812 -1.809948  1.046025   \n",
       "34356                       the prodigy     -0.176443  1.352398  0.487352   \n",
       "34357  quadrant, iris, homemade weapons     -1.436051  1.456794  1.046025   \n",
       "34358                        red velvet      0.919658  1.134905  0.487352   \n",
       "34359                              s3rl     -1.478441  1.426345  1.325362   \n",
       "\n",
       "       loudness      mode  speechiness  acousticness  instrumentalness  \\\n",
       "0     -1.256756 -1.388881     0.134295     -0.552654         -0.176625   \n",
       "1     -0.829766  0.720004    -0.502147     -0.412321          0.883945   \n",
       "2     -1.190680  0.720004    -0.528049      1.066067         -0.164412   \n",
       "3      0.329069 -1.388881    -0.186393      0.201226          0.052666   \n",
       "4      0.505590  0.720004    -0.609455     -0.784039         -0.431485   \n",
       "...         ...       ...          ...           ...               ...   \n",
       "34355 -1.996712 -1.388881    -0.412108      2.244209          3.425056   \n",
       "34356  0.695230  0.720004    -0.386206     -0.856356          0.017209   \n",
       "34357  1.453077  0.720004     0.273671     -0.843371          2.991688   \n",
       "34358  1.385809 -1.388881    -0.489813     -0.679932         -0.442851   \n",
       "34359  0.183797 -1.388881     0.315607     -0.858383         -0.426521   \n",
       "\n",
       "       liveness   valence     tempo  duration_ms  time_signature  cluster  \n",
       "0     -0.492765 -1.535615 -0.922229    -0.455240       -2.649790        9  \n",
       "1     -0.399318  0.560618  1.072723    -0.244592        0.191693        8  \n",
       "2     -0.505225 -1.133107  0.090749    -0.027268        0.191693        5  \n",
       "3      0.734507  1.804011  0.301100    -0.000883        0.191693        3  \n",
       "4     -0.624214 -0.487499 -0.158919     0.131533        0.191693        1  \n",
       "...         ...       ...       ...          ...             ...      ...  \n",
       "34355 -0.574999 -1.830523 -0.967932    -0.574685        0.191693        2  \n",
       "34356  0.553843  0.201947  0.670465    -0.159115        0.191693        8  \n",
       "34357  0.423017 -1.789873  1.735959     0.445944        0.191693        4  \n",
       "34358 -0.212424  1.796041  0.313123    -0.181431        0.191693        3  \n",
       "34359  2.204742 -0.790377  1.924155     0.048720        0.191693        6  \n",
       "\n",
       "[34360 rows x 17 columns]"
      ]
     },
     "execution_count": 10,
     "metadata": {},
     "output_type": "execute_result"
    }
   ],
   "source": [
    "songs_scaled"
   ]
  },
  {
   "cell_type": "code",
   "execution_count": 11,
   "id": "e58c5496",
   "metadata": {
    "slideshow": {
     "slide_type": "skip"
    }
   },
   "outputs": [
    {
     "data": {
      "text/html": [
       "<div>\n",
       "<style scoped>\n",
       "    .dataframe tbody tr th:only-of-type {\n",
       "        vertical-align: middle;\n",
       "    }\n",
       "\n",
       "    .dataframe tbody tr th {\n",
       "        vertical-align: top;\n",
       "    }\n",
       "\n",
       "    .dataframe thead th {\n",
       "        text-align: right;\n",
       "    }\n",
       "</style>\n",
       "<table border=\"1\" class=\"dataframe\">\n",
       "  <thead>\n",
       "    <tr style=\"text-align: right;\">\n",
       "      <th></th>\n",
       "      <th>song</th>\n",
       "      <th>artist</th>\n",
       "    </tr>\n",
       "  </thead>\n",
       "  <tbody>\n",
       "    <tr>\n",
       "      <th>0</th>\n",
       "      <td>we don't talk about bruno</td>\n",
       "      <td>carolina gaitan, mauro castillo, adassa, rhenz...</td>\n",
       "    </tr>\n",
       "    <tr>\n",
       "      <th>1</th>\n",
       "      <td>do we have a problem?</td>\n",
       "      <td>nicki minaj x lil baby</td>\n",
       "    </tr>\n",
       "    <tr>\n",
       "      <th>2</th>\n",
       "      <td>easy on me</td>\n",
       "      <td>adele</td>\n",
       "    </tr>\n",
       "    <tr>\n",
       "      <th>3</th>\n",
       "      <td>heat waves</td>\n",
       "      <td>glass animals</td>\n",
       "    </tr>\n",
       "    <tr>\n",
       "      <th>4</th>\n",
       "      <td>stay</td>\n",
       "      <td>the kid laroi &amp; justin bieber</td>\n",
       "    </tr>\n",
       "    <tr>\n",
       "      <th>...</th>\n",
       "      <td>...</td>\n",
       "      <td>...</td>\n",
       "    </tr>\n",
       "    <tr>\n",
       "      <th>222</th>\n",
       "      <td>love again</td>\n",
       "      <td>dua lipa</td>\n",
       "    </tr>\n",
       "    <tr>\n",
       "      <th>223</th>\n",
       "      <td>habit</td>\n",
       "      <td>laurell</td>\n",
       "    </tr>\n",
       "    <tr>\n",
       "      <th>224</th>\n",
       "      <td>head &amp; heart</td>\n",
       "      <td>joel corry feat. mnek</td>\n",
       "    </tr>\n",
       "    <tr>\n",
       "      <th>225</th>\n",
       "      <td>la familia 2</td>\n",
       "      <td>sun diego &amp; spongebozz</td>\n",
       "    </tr>\n",
       "    <tr>\n",
       "      <th>226</th>\n",
       "      <td>kapitel iv sport (2sad2disco)</td>\n",
       "      <td>apache 207</td>\n",
       "    </tr>\n",
       "  </tbody>\n",
       "</table>\n",
       "<p>227 rows × 2 columns</p>\n",
       "</div>"
      ],
      "text/plain": [
       "                              song  \\\n",
       "0        we don't talk about bruno   \n",
       "1            do we have a problem?   \n",
       "2                       easy on me   \n",
       "3                       heat waves   \n",
       "4                             stay   \n",
       "..                             ...   \n",
       "222                     love again   \n",
       "223                          habit   \n",
       "224                   head & heart   \n",
       "225                   la familia 2   \n",
       "226  kapitel iv sport (2sad2disco)   \n",
       "\n",
       "                                                artist  \n",
       "0    carolina gaitan, mauro castillo, adassa, rhenz...  \n",
       "1                               nicki minaj x lil baby  \n",
       "2                                                adele  \n",
       "3                                        glass animals  \n",
       "4                        the kid laroi & justin bieber  \n",
       "..                                                 ...  \n",
       "222                                           dua lipa  \n",
       "223                                            laurell  \n",
       "224                              joel corry feat. mnek  \n",
       "225                             sun diego & spongebozz  \n",
       "226                                         apache 207  \n",
       "\n",
       "[227 rows x 2 columns]"
      ]
     },
     "execution_count": 11,
     "metadata": {},
     "output_type": "execute_result"
    }
   ],
   "source": [
    "hot_songs"
   ]
  },
  {
   "cell_type": "code",
   "execution_count": 12,
   "id": "08bdd4a3",
   "metadata": {
    "slideshow": {
     "slide_type": "skip"
    }
   },
   "outputs": [],
   "source": [
    "feat_names = ['danceability', 'energy', 'key', 'loudness', 'mode', 'speechiness', 'acousticness',\n",
    "              'instrumentalness', 'liveness', 'valence', 'tempo', 'duration_ms', 'time_signature']"
   ]
  },
  {
   "cell_type": "code",
   "execution_count": 13,
   "id": "13121f03",
   "metadata": {
    "slideshow": {
     "slide_type": "skip"
    }
   },
   "outputs": [],
   "source": [
    "sp = spotipy.Spotify(auth_manager=SpotifyClientCredentials(client_id=config.client_id,\n",
    "                                                           client_secret=config.client_secret))"
   ]
  },
  {
   "cell_type": "code",
   "execution_count": 15,
   "id": "bd52358c",
   "metadata": {
    "slideshow": {
     "slide_type": "skip"
    }
   },
   "outputs": [],
   "source": [
    "def spotify_player(track_id):\n",
    "\n",
    "    return IFrame(src=f\"https://open.spotify.com/embed/track/{track_id}\",\n",
    "       width=\"320\",\n",
    "       height=\"80\",\n",
    "       frameborder=\"0\",\n",
    "       allowtransparency=\"true\",\n",
    "       allow=\"encrypted-media\",\n",
    "      )"
   ]
  },
  {
   "cell_type": "code",
   "execution_count": 16,
   "id": "6c81a8d9",
   "metadata": {
    "slideshow": {
     "slide_type": "skip"
    }
   },
   "outputs": [],
   "source": [
    "def song_suggestion():\n",
    "    \n",
    "    user_song = input('Enter a song: ')\n",
    "    songs = hot_songs['song'].values\n",
    "    \n",
    "    if user_song.lower() in songs:\n",
    "        suggestion = hot_songs.sample(1)\n",
    "        song_suggestion = suggestion.iloc[0][0]\n",
    "        by_artist = suggestion.iloc[0][1]\n",
    "         \n",
    "        print('Here\\'s another hot song for you: ' +\n",
    "                     '\\033[1m' + song_suggestion.title() +  '\\033[0m' +\n",
    "                     ' by ' + by_artist.title())\n",
    "    \n",
    "    else:\n",
    "        \n",
    "        try:\n",
    "            \n",
    "            responses = sp.search(q=user_song, type=\"track\", limit=25, market='US')\n",
    "            tracks = responses['tracks']['items']\n",
    "        \n",
    "        except:\n",
    "            print('It seemns like this song doesn\\'t exist. Please, try again!')\n",
    "            song_suggestion()\n",
    "        \n",
    "        else:\n",
    "            artists_song_id = {}\n",
    "                \n",
    "            for track in tracks:\n",
    "                \n",
    "                multiple_artists = []\n",
    "                for artist in track['artists']:\n",
    "                    multiple_artists.append(artist['name'])\n",
    "                artists = ', '.join(multiple_artists)\n",
    "                \n",
    "                if artists not in artists_song_id.keys():\n",
    "                    artists_song_id[artists] = track['id']\n",
    "                \n",
    "            artists_list = list(artists_song_id.keys())\n",
    "                        \n",
    "            if len(artists_list) > 0:\n",
    "                enumerated_artists = list(enumerate(artists_list))\n",
    "                print('\\nUnfortunately the song is not in the hot list!\\n')\n",
    "                print('Maybe we can recommend you something else based on your input.')\n",
    "                print('First, we need to know the artist/s from your song:\\n')\n",
    "                print(*enumerated_artists, sep='\\n')\n",
    "                artist_number = input('\\nPlease, choose a number from the list: ')\n",
    "            \n",
    "            input_ = False\n",
    "            \n",
    "            while input_ == False:\n",
    "                try:\n",
    "                    artist_number = int(artist_number)\n",
    "                    key = artists_list[artist_number]\n",
    "                    input_ = True\n",
    "                    \n",
    "                except:\n",
    "                    artist_number = input('Please, enter a valid number: ')\n",
    "                 \n",
    "                else:\n",
    "                    id_ = artists_song_id[key]\n",
    "                    \n",
    "                    all_feats = sp.audio_features(id_)[0]\n",
    "                    \n",
    "                    selected_feats = {key: all_feats[key] for key in feat_names}\n",
    "                    \n",
    "                    features_df = pd.DataFrame([selected_feats])\n",
    "                    \n",
    "                    feat_scaled = pd.DataFrame(scaler.transform(features_df), columns=feat_names)\n",
    "                    \n",
    "                    cluster_recommended = model.predict(feat_scaled)[0]\n",
    "                    \n",
    "                    recommended_id = songs_scaled['id'][songs_scaled['cluster'] ==  cluster_recommended].sample(1).values[0]\n",
    "        \n",
    "        display(spotify_player(id_))\n",
    "        display(spotify_player(recommended_id))"
   ]
  },
  {
   "cell_type": "markdown",
   "id": "f5a02a0b",
   "metadata": {
    "slideshow": {
     "slide_type": "slide"
    }
   },
   "source": [
    "## Our recommender"
   ]
  },
  {
   "cell_type": "code",
   "execution_count": 17,
   "id": "6574c5cd",
   "metadata": {
    "slideshow": {
     "slide_type": "subslide"
    }
   },
   "outputs": [
    {
     "name": "stdout",
     "output_type": "stream",
     "text": [
      "Enter a song: yellow\n",
      "\n",
      "Unfortunately the song is not in the hot list!\n",
      "\n",
      "Maybe we can recommend you something else based on your input.\n",
      "First, we need to know the artist/s from your song:\n",
      "\n",
      "(0, 'Coldplay')\n",
      "(1, 'Ant Saunders')\n",
      "(2, 'Cardi B')\n",
      "(3, 'The Beatles')\n",
      "(4, 'Pearl Jam')\n",
      "(5, 'Key Glock')\n",
      "(6, 'Rayland Baxter')\n",
      "(7, 'Wiz Khalifa')\n",
      "(8, 'Lofi Fruits Music, Orange Stick, Avocuddle')\n",
      "(9, 'Yellowcard')\n",
      "(10, 'Elton John')\n",
      "(11, 'Harry Hudson')\n",
      "(12, 'Katherine Ho')\n",
      "(13, 'Yoh kamiyama')\n",
      "(14, 'Emmit Fenn')\n",
      "(15, 'Aminé, Nelly')\n",
      "(16, 'Pity Party (Girls Club)')\n",
      "(17, 'Lorde')\n",
      "(18, 'City Morgue, ZillaKami')\n",
      "(19, 'Spiritbox, Sam Carter')\n",
      "\n",
      "Please, choose a number from the list: 0\n"
     ]
    },
    {
     "data": {
      "text/html": [
       "\n",
       "        <iframe\n",
       "            width=\"320\"\n",
       "            height=\"80\"\n",
       "            src=\"https://open.spotify.com/embed/track/3AJwUDP919kvQ9QcozQPxg?frameborder=0&allowtransparency=true&allow=encrypted-media\"\n",
       "            frameborder=\"0\"\n",
       "            allowfullscreen\n",
       "            \n",
       "        ></iframe>\n",
       "        "
      ],
      "text/plain": [
       "<IPython.lib.display.IFrame at 0x1d1674591c8>"
      ]
     },
     "metadata": {},
     "output_type": "display_data"
    },
    {
     "data": {
      "text/html": [
       "\n",
       "        <iframe\n",
       "            width=\"320\"\n",
       "            height=\"80\"\n",
       "            src=\"https://open.spotify.com/embed/track/2TBRfDnfwsOIaGxkkXFBN2?frameborder=0&allowtransparency=true&allow=encrypted-media\"\n",
       "            frameborder=\"0\"\n",
       "            allowfullscreen\n",
       "            \n",
       "        ></iframe>\n",
       "        "
      ],
      "text/plain": [
       "<IPython.lib.display.IFrame at 0x1d1674591c8>"
      ]
     },
     "metadata": {},
     "output_type": "display_data"
    }
   ],
   "source": [
    "song_suggestion()"
   ]
  },
  {
   "cell_type": "code",
   "execution_count": null,
   "id": "c629df78",
   "metadata": {},
   "outputs": [],
   "source": []
  },
  {
   "cell_type": "code",
   "execution_count": null,
   "id": "4fb9e655",
   "metadata": {},
   "outputs": [],
   "source": []
  }
 ],
 "metadata": {
  "celltoolbar": "Slideshow",
  "kernelspec": {
   "display_name": "Python 3 (ipykernel)",
   "language": "python",
   "name": "python3"
  },
  "language_info": {
   "codemirror_mode": {
    "name": "ipython",
    "version": 3
   },
   "file_extension": ".py",
   "mimetype": "text/x-python",
   "name": "python",
   "nbconvert_exporter": "python",
   "pygments_lexer": "ipython3",
   "version": "3.7.11"
  }
 },
 "nbformat": 4,
 "nbformat_minor": 5
}
